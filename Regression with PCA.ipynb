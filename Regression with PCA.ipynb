{
 "cells": [
  {
   "cell_type": "markdown",
   "metadata": {},
   "source": [
    "# PCA Regression"
   ]
  },
  {
   "cell_type": "markdown",
   "metadata": {},
   "source": [
    "## Importing Libraries"
   ]
  },
  {
   "cell_type": "code",
   "execution_count": 9,
   "metadata": {},
   "outputs": [],
   "source": [
    "import numpy as np\n",
    "import pandas as pd\n",
    "import matplotlib.pyplot as plt\n",
    "import seaborn as sns\n",
    "import mglearn\n",
    "import pydotplus\n",
    "from sklearn.model_selection import train_test_split\n",
    "from sklearn.preprocessing import MinMaxScaler\n",
    "from sklearn.metrics import classification_report, confusion_matrix\n",
    "from sklearn.tree import export_graphviz\n",
    "from sklearn.model_selection import GridSearchCV\n",
    "from sklearn.model_selection import GridSearchCV"
   ]
  },
  {
   "cell_type": "markdown",
   "metadata": {},
   "source": [
    "## Loading Datasets"
   ]
  },
  {
   "cell_type": "code",
   "execution_count": 10,
   "metadata": {},
   "outputs": [],
   "source": [
    "data1= pd.read_csv('audit_risk.csv')\n",
    "data2= pd.read_csv('trial.csv')"
   ]
  },
  {
   "cell_type": "code",
   "execution_count": 11,
   "metadata": {},
   "outputs": [
    {
     "data": {
      "text/html": [
       "<div>\n",
       "<style scoped>\n",
       "    .dataframe tbody tr th:only-of-type {\n",
       "        vertical-align: middle;\n",
       "    }\n",
       "\n",
       "    .dataframe tbody tr th {\n",
       "        vertical-align: top;\n",
       "    }\n",
       "\n",
       "    .dataframe thead th {\n",
       "        text-align: right;\n",
       "    }\n",
       "</style>\n",
       "<table border=\"1\" class=\"dataframe\">\n",
       "  <thead>\n",
       "    <tr style=\"text-align: right;\">\n",
       "      <th></th>\n",
       "      <th>Sector_score</th>\n",
       "      <th>LOCATION_ID</th>\n",
       "      <th>PARA_A</th>\n",
       "      <th>Score_A</th>\n",
       "      <th>Risk_A</th>\n",
       "      <th>PARA_B</th>\n",
       "      <th>Score_B</th>\n",
       "      <th>Risk_B</th>\n",
       "      <th>TOTAL</th>\n",
       "      <th>numbers</th>\n",
       "      <th>...</th>\n",
       "      <th>RiSk_E</th>\n",
       "      <th>History</th>\n",
       "      <th>Prob</th>\n",
       "      <th>Risk_F</th>\n",
       "      <th>Score</th>\n",
       "      <th>Inherent_Risk</th>\n",
       "      <th>CONTROL_RISK</th>\n",
       "      <th>Detection_Risk</th>\n",
       "      <th>Audit_Risk</th>\n",
       "      <th>Risk</th>\n",
       "    </tr>\n",
       "  </thead>\n",
       "  <tbody>\n",
       "    <tr>\n",
       "      <th>0</th>\n",
       "      <td>3.89</td>\n",
       "      <td>23</td>\n",
       "      <td>4.18</td>\n",
       "      <td>0.6</td>\n",
       "      <td>2.508</td>\n",
       "      <td>2.50</td>\n",
       "      <td>0.2</td>\n",
       "      <td>0.500</td>\n",
       "      <td>6.68</td>\n",
       "      <td>5.0</td>\n",
       "      <td>...</td>\n",
       "      <td>0.4</td>\n",
       "      <td>0</td>\n",
       "      <td>0.2</td>\n",
       "      <td>0.0</td>\n",
       "      <td>2.4</td>\n",
       "      <td>8.574</td>\n",
       "      <td>0.4</td>\n",
       "      <td>0.5</td>\n",
       "      <td>1.7148</td>\n",
       "      <td>1</td>\n",
       "    </tr>\n",
       "    <tr>\n",
       "      <th>1</th>\n",
       "      <td>3.89</td>\n",
       "      <td>6</td>\n",
       "      <td>0.00</td>\n",
       "      <td>0.2</td>\n",
       "      <td>0.000</td>\n",
       "      <td>4.83</td>\n",
       "      <td>0.2</td>\n",
       "      <td>0.966</td>\n",
       "      <td>4.83</td>\n",
       "      <td>5.0</td>\n",
       "      <td>...</td>\n",
       "      <td>0.4</td>\n",
       "      <td>0</td>\n",
       "      <td>0.2</td>\n",
       "      <td>0.0</td>\n",
       "      <td>2.0</td>\n",
       "      <td>2.554</td>\n",
       "      <td>0.4</td>\n",
       "      <td>0.5</td>\n",
       "      <td>0.5108</td>\n",
       "      <td>0</td>\n",
       "    </tr>\n",
       "    <tr>\n",
       "      <th>2</th>\n",
       "      <td>3.89</td>\n",
       "      <td>6</td>\n",
       "      <td>0.51</td>\n",
       "      <td>0.2</td>\n",
       "      <td>0.102</td>\n",
       "      <td>0.23</td>\n",
       "      <td>0.2</td>\n",
       "      <td>0.046</td>\n",
       "      <td>0.74</td>\n",
       "      <td>5.0</td>\n",
       "      <td>...</td>\n",
       "      <td>0.4</td>\n",
       "      <td>0</td>\n",
       "      <td>0.2</td>\n",
       "      <td>0.0</td>\n",
       "      <td>2.0</td>\n",
       "      <td>1.548</td>\n",
       "      <td>0.4</td>\n",
       "      <td>0.5</td>\n",
       "      <td>0.3096</td>\n",
       "      <td>0</td>\n",
       "    </tr>\n",
       "  </tbody>\n",
       "</table>\n",
       "<p>3 rows × 27 columns</p>\n",
       "</div>"
      ],
      "text/plain": [
       "   Sector_score LOCATION_ID  PARA_A  Score_A  Risk_A  PARA_B  Score_B  Risk_B  \\\n",
       "0          3.89          23    4.18      0.6   2.508    2.50      0.2   0.500   \n",
       "1          3.89           6    0.00      0.2   0.000    4.83      0.2   0.966   \n",
       "2          3.89           6    0.51      0.2   0.102    0.23      0.2   0.046   \n",
       "\n",
       "   TOTAL  numbers  ...  RiSk_E  History  Prob  Risk_F  Score  Inherent_Risk  \\\n",
       "0   6.68      5.0  ...     0.4        0   0.2     0.0    2.4          8.574   \n",
       "1   4.83      5.0  ...     0.4        0   0.2     0.0    2.0          2.554   \n",
       "2   0.74      5.0  ...     0.4        0   0.2     0.0    2.0          1.548   \n",
       "\n",
       "   CONTROL_RISK  Detection_Risk  Audit_Risk  Risk  \n",
       "0           0.4             0.5      1.7148     1  \n",
       "1           0.4             0.5      0.5108     0  \n",
       "2           0.4             0.5      0.3096     0  \n",
       "\n",
       "[3 rows x 27 columns]"
      ]
     },
     "execution_count": 11,
     "metadata": {},
     "output_type": "execute_result"
    }
   ],
   "source": [
    "data1.head(3)"
   ]
  },
  {
   "cell_type": "code",
   "execution_count": 12,
   "metadata": {},
   "outputs": [
    {
     "data": {
      "text/html": [
       "<div>\n",
       "<style scoped>\n",
       "    .dataframe tbody tr th:only-of-type {\n",
       "        vertical-align: middle;\n",
       "    }\n",
       "\n",
       "    .dataframe tbody tr th {\n",
       "        vertical-align: top;\n",
       "    }\n",
       "\n",
       "    .dataframe thead th {\n",
       "        text-align: right;\n",
       "    }\n",
       "</style>\n",
       "<table border=\"1\" class=\"dataframe\">\n",
       "  <thead>\n",
       "    <tr style=\"text-align: right;\">\n",
       "      <th></th>\n",
       "      <th>Sector_score</th>\n",
       "      <th>LOCATION_ID</th>\n",
       "      <th>PARA_A</th>\n",
       "      <th>SCORE_A</th>\n",
       "      <th>PARA_B</th>\n",
       "      <th>SCORE_B</th>\n",
       "      <th>TOTAL</th>\n",
       "      <th>numbers</th>\n",
       "      <th>Marks</th>\n",
       "      <th>Money_Value</th>\n",
       "      <th>MONEY_Marks</th>\n",
       "      <th>District</th>\n",
       "      <th>Loss</th>\n",
       "      <th>LOSS_SCORE</th>\n",
       "      <th>History</th>\n",
       "      <th>History_score</th>\n",
       "      <th>Score</th>\n",
       "      <th>Risk</th>\n",
       "    </tr>\n",
       "  </thead>\n",
       "  <tbody>\n",
       "    <tr>\n",
       "      <th>0</th>\n",
       "      <td>3.89</td>\n",
       "      <td>23</td>\n",
       "      <td>4.18</td>\n",
       "      <td>6</td>\n",
       "      <td>2.50</td>\n",
       "      <td>2</td>\n",
       "      <td>6.68</td>\n",
       "      <td>5.0</td>\n",
       "      <td>2</td>\n",
       "      <td>3.38</td>\n",
       "      <td>2</td>\n",
       "      <td>2</td>\n",
       "      <td>0</td>\n",
       "      <td>2</td>\n",
       "      <td>0</td>\n",
       "      <td>2</td>\n",
       "      <td>2.4</td>\n",
       "      <td>1</td>\n",
       "    </tr>\n",
       "    <tr>\n",
       "      <th>1</th>\n",
       "      <td>3.89</td>\n",
       "      <td>6</td>\n",
       "      <td>0.00</td>\n",
       "      <td>2</td>\n",
       "      <td>4.83</td>\n",
       "      <td>2</td>\n",
       "      <td>4.83</td>\n",
       "      <td>5.0</td>\n",
       "      <td>2</td>\n",
       "      <td>0.94</td>\n",
       "      <td>2</td>\n",
       "      <td>2</td>\n",
       "      <td>0</td>\n",
       "      <td>2</td>\n",
       "      <td>0</td>\n",
       "      <td>2</td>\n",
       "      <td>2.0</td>\n",
       "      <td>0</td>\n",
       "    </tr>\n",
       "    <tr>\n",
       "      <th>2</th>\n",
       "      <td>3.89</td>\n",
       "      <td>6</td>\n",
       "      <td>0.51</td>\n",
       "      <td>2</td>\n",
       "      <td>0.23</td>\n",
       "      <td>2</td>\n",
       "      <td>0.74</td>\n",
       "      <td>5.0</td>\n",
       "      <td>2</td>\n",
       "      <td>0.00</td>\n",
       "      <td>2</td>\n",
       "      <td>2</td>\n",
       "      <td>0</td>\n",
       "      <td>2</td>\n",
       "      <td>0</td>\n",
       "      <td>2</td>\n",
       "      <td>2.0</td>\n",
       "      <td>0</td>\n",
       "    </tr>\n",
       "  </tbody>\n",
       "</table>\n",
       "</div>"
      ],
      "text/plain": [
       "   Sector_score LOCATION_ID  PARA_A  SCORE_A  PARA_B  SCORE_B  TOTAL  numbers  \\\n",
       "0          3.89          23    4.18        6    2.50        2   6.68      5.0   \n",
       "1          3.89           6    0.00        2    4.83        2   4.83      5.0   \n",
       "2          3.89           6    0.51        2    0.23        2   0.74      5.0   \n",
       "\n",
       "   Marks  Money_Value  MONEY_Marks  District  Loss  LOSS_SCORE  History  \\\n",
       "0      2         3.38            2         2     0           2        0   \n",
       "1      2         0.94            2         2     0           2        0   \n",
       "2      2         0.00            2         2     0           2        0   \n",
       "\n",
       "   History_score  Score  Risk  \n",
       "0              2    2.4     1  \n",
       "1              2    2.0     0  \n",
       "2              2    2.0     0  "
      ]
     },
     "execution_count": 12,
     "metadata": {},
     "output_type": "execute_result"
    }
   ],
   "source": [
    "data2.head(3)"
   ]
  },
  {
   "cell_type": "markdown",
   "metadata": {},
   "source": [
    "As we can observe from the info of data1(Audit_Risk) , Total number of instances is only 776 whereas we know that there are a total of 777 firms. Also, Money_value has a total of 775 non null values instead of 776 non null values"
   ]
  },
  {
   "cell_type": "code",
   "execution_count": 13,
   "metadata": {},
   "outputs": [
    {
     "name": "stdout",
     "output_type": "stream",
     "text": [
      "<class 'pandas.core.frame.DataFrame'>\n",
      "RangeIndex: 776 entries, 0 to 775\n",
      "Data columns (total 27 columns):\n",
      "Sector_score      776 non-null float64\n",
      "LOCATION_ID       776 non-null object\n",
      "PARA_A            776 non-null float64\n",
      "Score_A           776 non-null float64\n",
      "Risk_A            776 non-null float64\n",
      "PARA_B            776 non-null float64\n",
      "Score_B           776 non-null float64\n",
      "Risk_B            776 non-null float64\n",
      "TOTAL             776 non-null float64\n",
      "numbers           776 non-null float64\n",
      "Score_B.1         776 non-null float64\n",
      "Risk_C            776 non-null float64\n",
      "Money_Value       775 non-null float64\n",
      "Score_MV          776 non-null float64\n",
      "Risk_D            776 non-null float64\n",
      "District_Loss     776 non-null int64\n",
      "PROB              776 non-null float64\n",
      "RiSk_E            776 non-null float64\n",
      "History           776 non-null int64\n",
      "Prob              776 non-null float64\n",
      "Risk_F            776 non-null float64\n",
      "Score             776 non-null float64\n",
      "Inherent_Risk     776 non-null float64\n",
      "CONTROL_RISK      776 non-null float64\n",
      "Detection_Risk    776 non-null float64\n",
      "Audit_Risk        776 non-null float64\n",
      "Risk              776 non-null int64\n",
      "dtypes: float64(23), int64(3), object(1)\n",
      "memory usage: 163.8+ KB\n"
     ]
    }
   ],
   "source": [
    "data1.info()"
   ]
  },
  {
   "cell_type": "markdown",
   "metadata": {},
   "source": [
    "From the statistics of features in data1, detection risk was found to have zero variance"
   ]
  },
  {
   "cell_type": "code",
   "execution_count": 14,
   "metadata": {
    "scrolled": true
   },
   "outputs": [
    {
     "data": {
      "text/html": [
       "<div>\n",
       "<style scoped>\n",
       "    .dataframe tbody tr th:only-of-type {\n",
       "        vertical-align: middle;\n",
       "    }\n",
       "\n",
       "    .dataframe tbody tr th {\n",
       "        vertical-align: top;\n",
       "    }\n",
       "\n",
       "    .dataframe thead th {\n",
       "        text-align: right;\n",
       "    }\n",
       "</style>\n",
       "<table border=\"1\" class=\"dataframe\">\n",
       "  <thead>\n",
       "    <tr style=\"text-align: right;\">\n",
       "      <th></th>\n",
       "      <th>Sector_score</th>\n",
       "      <th>PARA_A</th>\n",
       "      <th>Score_A</th>\n",
       "      <th>Risk_A</th>\n",
       "      <th>PARA_B</th>\n",
       "      <th>Score_B</th>\n",
       "      <th>Risk_B</th>\n",
       "      <th>TOTAL</th>\n",
       "      <th>numbers</th>\n",
       "      <th>Score_B.1</th>\n",
       "      <th>...</th>\n",
       "      <th>RiSk_E</th>\n",
       "      <th>History</th>\n",
       "      <th>Prob</th>\n",
       "      <th>Risk_F</th>\n",
       "      <th>Score</th>\n",
       "      <th>Inherent_Risk</th>\n",
       "      <th>CONTROL_RISK</th>\n",
       "      <th>Detection_Risk</th>\n",
       "      <th>Audit_Risk</th>\n",
       "      <th>Risk</th>\n",
       "    </tr>\n",
       "  </thead>\n",
       "  <tbody>\n",
       "    <tr>\n",
       "      <th>count</th>\n",
       "      <td>776.000000</td>\n",
       "      <td>776.000000</td>\n",
       "      <td>776.000000</td>\n",
       "      <td>776.000000</td>\n",
       "      <td>776.000000</td>\n",
       "      <td>776.000000</td>\n",
       "      <td>776.000000</td>\n",
       "      <td>776.000000</td>\n",
       "      <td>776.000000</td>\n",
       "      <td>776.000000</td>\n",
       "      <td>...</td>\n",
       "      <td>776.000000</td>\n",
       "      <td>776.000000</td>\n",
       "      <td>776.000000</td>\n",
       "      <td>776.000000</td>\n",
       "      <td>776.000000</td>\n",
       "      <td>776.000000</td>\n",
       "      <td>776.000000</td>\n",
       "      <td>776.0</td>\n",
       "      <td>776.000000</td>\n",
       "      <td>776.000000</td>\n",
       "    </tr>\n",
       "    <tr>\n",
       "      <th>mean</th>\n",
       "      <td>20.184536</td>\n",
       "      <td>2.450194</td>\n",
       "      <td>0.351289</td>\n",
       "      <td>1.351029</td>\n",
       "      <td>10.799988</td>\n",
       "      <td>0.313144</td>\n",
       "      <td>6.334008</td>\n",
       "      <td>13.218481</td>\n",
       "      <td>5.067655</td>\n",
       "      <td>0.223711</td>\n",
       "      <td>...</td>\n",
       "      <td>0.519072</td>\n",
       "      <td>0.104381</td>\n",
       "      <td>0.216753</td>\n",
       "      <td>0.053608</td>\n",
       "      <td>2.702577</td>\n",
       "      <td>17.680612</td>\n",
       "      <td>0.572680</td>\n",
       "      <td>0.5</td>\n",
       "      <td>7.168158</td>\n",
       "      <td>0.393041</td>\n",
       "    </tr>\n",
       "    <tr>\n",
       "      <th>std</th>\n",
       "      <td>24.319017</td>\n",
       "      <td>5.678870</td>\n",
       "      <td>0.174055</td>\n",
       "      <td>3.440447</td>\n",
       "      <td>50.083624</td>\n",
       "      <td>0.169804</td>\n",
       "      <td>30.072845</td>\n",
       "      <td>51.312829</td>\n",
       "      <td>0.264449</td>\n",
       "      <td>0.080352</td>\n",
       "      <td>...</td>\n",
       "      <td>0.290312</td>\n",
       "      <td>0.531031</td>\n",
       "      <td>0.067987</td>\n",
       "      <td>0.305835</td>\n",
       "      <td>0.858923</td>\n",
       "      <td>54.740244</td>\n",
       "      <td>0.444581</td>\n",
       "      <td>0.0</td>\n",
       "      <td>38.667494</td>\n",
       "      <td>0.488741</td>\n",
       "    </tr>\n",
       "    <tr>\n",
       "      <th>min</th>\n",
       "      <td>1.850000</td>\n",
       "      <td>0.000000</td>\n",
       "      <td>0.200000</td>\n",
       "      <td>0.000000</td>\n",
       "      <td>0.000000</td>\n",
       "      <td>0.200000</td>\n",
       "      <td>0.000000</td>\n",
       "      <td>0.000000</td>\n",
       "      <td>5.000000</td>\n",
       "      <td>0.200000</td>\n",
       "      <td>...</td>\n",
       "      <td>0.400000</td>\n",
       "      <td>0.000000</td>\n",
       "      <td>0.200000</td>\n",
       "      <td>0.000000</td>\n",
       "      <td>2.000000</td>\n",
       "      <td>1.400000</td>\n",
       "      <td>0.400000</td>\n",
       "      <td>0.5</td>\n",
       "      <td>0.280000</td>\n",
       "      <td>0.000000</td>\n",
       "    </tr>\n",
       "    <tr>\n",
       "      <th>25%</th>\n",
       "      <td>2.370000</td>\n",
       "      <td>0.210000</td>\n",
       "      <td>0.200000</td>\n",
       "      <td>0.042000</td>\n",
       "      <td>0.000000</td>\n",
       "      <td>0.200000</td>\n",
       "      <td>0.000000</td>\n",
       "      <td>0.537500</td>\n",
       "      <td>5.000000</td>\n",
       "      <td>0.200000</td>\n",
       "      <td>...</td>\n",
       "      <td>0.400000</td>\n",
       "      <td>0.000000</td>\n",
       "      <td>0.200000</td>\n",
       "      <td>0.000000</td>\n",
       "      <td>2.000000</td>\n",
       "      <td>1.583500</td>\n",
       "      <td>0.400000</td>\n",
       "      <td>0.5</td>\n",
       "      <td>0.316700</td>\n",
       "      <td>0.000000</td>\n",
       "    </tr>\n",
       "    <tr>\n",
       "      <th>50%</th>\n",
       "      <td>3.890000</td>\n",
       "      <td>0.875000</td>\n",
       "      <td>0.200000</td>\n",
       "      <td>0.175000</td>\n",
       "      <td>0.405000</td>\n",
       "      <td>0.200000</td>\n",
       "      <td>0.081000</td>\n",
       "      <td>1.370000</td>\n",
       "      <td>5.000000</td>\n",
       "      <td>0.200000</td>\n",
       "      <td>...</td>\n",
       "      <td>0.400000</td>\n",
       "      <td>0.000000</td>\n",
       "      <td>0.200000</td>\n",
       "      <td>0.000000</td>\n",
       "      <td>2.400000</td>\n",
       "      <td>2.214000</td>\n",
       "      <td>0.400000</td>\n",
       "      <td>0.5</td>\n",
       "      <td>0.555600</td>\n",
       "      <td>0.000000</td>\n",
       "    </tr>\n",
       "    <tr>\n",
       "      <th>75%</th>\n",
       "      <td>55.570000</td>\n",
       "      <td>2.480000</td>\n",
       "      <td>0.600000</td>\n",
       "      <td>1.488000</td>\n",
       "      <td>4.160000</td>\n",
       "      <td>0.400000</td>\n",
       "      <td>1.840500</td>\n",
       "      <td>7.707500</td>\n",
       "      <td>5.000000</td>\n",
       "      <td>0.200000</td>\n",
       "      <td>...</td>\n",
       "      <td>0.400000</td>\n",
       "      <td>0.000000</td>\n",
       "      <td>0.200000</td>\n",
       "      <td>0.000000</td>\n",
       "      <td>3.250000</td>\n",
       "      <td>10.663500</td>\n",
       "      <td>0.400000</td>\n",
       "      <td>0.5</td>\n",
       "      <td>3.249900</td>\n",
       "      <td>1.000000</td>\n",
       "    </tr>\n",
       "    <tr>\n",
       "      <th>max</th>\n",
       "      <td>59.850000</td>\n",
       "      <td>85.000000</td>\n",
       "      <td>0.600000</td>\n",
       "      <td>51.000000</td>\n",
       "      <td>1264.630000</td>\n",
       "      <td>0.600000</td>\n",
       "      <td>758.778000</td>\n",
       "      <td>1268.910000</td>\n",
       "      <td>9.000000</td>\n",
       "      <td>0.600000</td>\n",
       "      <td>...</td>\n",
       "      <td>2.400000</td>\n",
       "      <td>9.000000</td>\n",
       "      <td>0.600000</td>\n",
       "      <td>5.400000</td>\n",
       "      <td>5.200000</td>\n",
       "      <td>801.262000</td>\n",
       "      <td>5.800000</td>\n",
       "      <td>0.5</td>\n",
       "      <td>961.514400</td>\n",
       "      <td>1.000000</td>\n",
       "    </tr>\n",
       "  </tbody>\n",
       "</table>\n",
       "<p>8 rows × 26 columns</p>\n",
       "</div>"
      ],
      "text/plain": [
       "       Sector_score      PARA_A     Score_A      Risk_A       PARA_B  \\\n",
       "count    776.000000  776.000000  776.000000  776.000000   776.000000   \n",
       "mean      20.184536    2.450194    0.351289    1.351029    10.799988   \n",
       "std       24.319017    5.678870    0.174055    3.440447    50.083624   \n",
       "min        1.850000    0.000000    0.200000    0.000000     0.000000   \n",
       "25%        2.370000    0.210000    0.200000    0.042000     0.000000   \n",
       "50%        3.890000    0.875000    0.200000    0.175000     0.405000   \n",
       "75%       55.570000    2.480000    0.600000    1.488000     4.160000   \n",
       "max       59.850000   85.000000    0.600000   51.000000  1264.630000   \n",
       "\n",
       "          Score_B      Risk_B        TOTAL     numbers   Score_B.1  ...  \\\n",
       "count  776.000000  776.000000   776.000000  776.000000  776.000000  ...   \n",
       "mean     0.313144    6.334008    13.218481    5.067655    0.223711  ...   \n",
       "std      0.169804   30.072845    51.312829    0.264449    0.080352  ...   \n",
       "min      0.200000    0.000000     0.000000    5.000000    0.200000  ...   \n",
       "25%      0.200000    0.000000     0.537500    5.000000    0.200000  ...   \n",
       "50%      0.200000    0.081000     1.370000    5.000000    0.200000  ...   \n",
       "75%      0.400000    1.840500     7.707500    5.000000    0.200000  ...   \n",
       "max      0.600000  758.778000  1268.910000    9.000000    0.600000  ...   \n",
       "\n",
       "           RiSk_E     History        Prob      Risk_F       Score  \\\n",
       "count  776.000000  776.000000  776.000000  776.000000  776.000000   \n",
       "mean     0.519072    0.104381    0.216753    0.053608    2.702577   \n",
       "std      0.290312    0.531031    0.067987    0.305835    0.858923   \n",
       "min      0.400000    0.000000    0.200000    0.000000    2.000000   \n",
       "25%      0.400000    0.000000    0.200000    0.000000    2.000000   \n",
       "50%      0.400000    0.000000    0.200000    0.000000    2.400000   \n",
       "75%      0.400000    0.000000    0.200000    0.000000    3.250000   \n",
       "max      2.400000    9.000000    0.600000    5.400000    5.200000   \n",
       "\n",
       "       Inherent_Risk  CONTROL_RISK  Detection_Risk  Audit_Risk        Risk  \n",
       "count     776.000000    776.000000           776.0  776.000000  776.000000  \n",
       "mean       17.680612      0.572680             0.5    7.168158    0.393041  \n",
       "std        54.740244      0.444581             0.0   38.667494    0.488741  \n",
       "min         1.400000      0.400000             0.5    0.280000    0.000000  \n",
       "25%         1.583500      0.400000             0.5    0.316700    0.000000  \n",
       "50%         2.214000      0.400000             0.5    0.555600    0.000000  \n",
       "75%        10.663500      0.400000             0.5    3.249900    1.000000  \n",
       "max       801.262000      5.800000             0.5  961.514400    1.000000  \n",
       "\n",
       "[8 rows x 26 columns]"
      ]
     },
     "execution_count": 14,
     "metadata": {},
     "output_type": "execute_result"
    }
   ],
   "source": [
    "data1.describe()"
   ]
  },
  {
   "cell_type": "code",
   "execution_count": 15,
   "metadata": {},
   "outputs": [
    {
     "name": "stdout",
     "output_type": "stream",
     "text": [
      "<class 'pandas.core.frame.DataFrame'>\n",
      "RangeIndex: 776 entries, 0 to 775\n",
      "Data columns (total 18 columns):\n",
      "Sector_score     776 non-null float64\n",
      "LOCATION_ID      776 non-null object\n",
      "PARA_A           776 non-null float64\n",
      "SCORE_A          776 non-null int64\n",
      "PARA_B           776 non-null float64\n",
      "SCORE_B          776 non-null int64\n",
      "TOTAL            776 non-null float64\n",
      "numbers          776 non-null float64\n",
      "Marks            776 non-null int64\n",
      "Money_Value      775 non-null float64\n",
      "MONEY_Marks      776 non-null int64\n",
      "District         776 non-null int64\n",
      "Loss             776 non-null int64\n",
      "LOSS_SCORE       776 non-null int64\n",
      "History          776 non-null int64\n",
      "History_score    776 non-null int64\n",
      "Score            776 non-null float64\n",
      "Risk             776 non-null int64\n",
      "dtypes: float64(7), int64(10), object(1)\n",
      "memory usage: 109.2+ KB\n"
     ]
    }
   ],
   "source": [
    "data2.info()"
   ]
  },
  {
   "cell_type": "code",
   "execution_count": 16,
   "metadata": {},
   "outputs": [
    {
     "data": {
      "text/html": [
       "<div>\n",
       "<style scoped>\n",
       "    .dataframe tbody tr th:only-of-type {\n",
       "        vertical-align: middle;\n",
       "    }\n",
       "\n",
       "    .dataframe tbody tr th {\n",
       "        vertical-align: top;\n",
       "    }\n",
       "\n",
       "    .dataframe thead th {\n",
       "        text-align: right;\n",
       "    }\n",
       "</style>\n",
       "<table border=\"1\" class=\"dataframe\">\n",
       "  <thead>\n",
       "    <tr style=\"text-align: right;\">\n",
       "      <th></th>\n",
       "      <th>Sector_score</th>\n",
       "      <th>PARA_A</th>\n",
       "      <th>SCORE_A</th>\n",
       "      <th>PARA_B</th>\n",
       "      <th>SCORE_B</th>\n",
       "      <th>TOTAL</th>\n",
       "      <th>numbers</th>\n",
       "      <th>Marks</th>\n",
       "      <th>Money_Value</th>\n",
       "      <th>MONEY_Marks</th>\n",
       "      <th>District</th>\n",
       "      <th>Loss</th>\n",
       "      <th>LOSS_SCORE</th>\n",
       "      <th>History</th>\n",
       "      <th>History_score</th>\n",
       "      <th>Score</th>\n",
       "      <th>Risk</th>\n",
       "    </tr>\n",
       "  </thead>\n",
       "  <tbody>\n",
       "    <tr>\n",
       "      <th>count</th>\n",
       "      <td>776.000000</td>\n",
       "      <td>776.000000</td>\n",
       "      <td>776.000000</td>\n",
       "      <td>776.000000</td>\n",
       "      <td>776.000000</td>\n",
       "      <td>776.000000</td>\n",
       "      <td>776.000000</td>\n",
       "      <td>776.000000</td>\n",
       "      <td>775.000000</td>\n",
       "      <td>776.000000</td>\n",
       "      <td>776.000000</td>\n",
       "      <td>776.000000</td>\n",
       "      <td>776.000000</td>\n",
       "      <td>776.000000</td>\n",
       "      <td>776.000000</td>\n",
       "      <td>776.000000</td>\n",
       "      <td>776.000000</td>\n",
       "    </tr>\n",
       "    <tr>\n",
       "      <th>mean</th>\n",
       "      <td>20.184536</td>\n",
       "      <td>2.450194</td>\n",
       "      <td>3.512887</td>\n",
       "      <td>10.799988</td>\n",
       "      <td>3.131443</td>\n",
       "      <td>13.218481</td>\n",
       "      <td>5.067655</td>\n",
       "      <td>2.237113</td>\n",
       "      <td>14.137631</td>\n",
       "      <td>2.909794</td>\n",
       "      <td>2.505155</td>\n",
       "      <td>0.029639</td>\n",
       "      <td>2.061856</td>\n",
       "      <td>0.104381</td>\n",
       "      <td>2.167526</td>\n",
       "      <td>2.702577</td>\n",
       "      <td>0.626289</td>\n",
       "    </tr>\n",
       "    <tr>\n",
       "      <th>std</th>\n",
       "      <td>24.319017</td>\n",
       "      <td>5.678870</td>\n",
       "      <td>1.740549</td>\n",
       "      <td>50.083624</td>\n",
       "      <td>1.698042</td>\n",
       "      <td>51.312829</td>\n",
       "      <td>0.264449</td>\n",
       "      <td>0.803517</td>\n",
       "      <td>66.606519</td>\n",
       "      <td>1.597452</td>\n",
       "      <td>1.228678</td>\n",
       "      <td>0.184280</td>\n",
       "      <td>0.375080</td>\n",
       "      <td>0.531031</td>\n",
       "      <td>0.679869</td>\n",
       "      <td>0.858923</td>\n",
       "      <td>0.484100</td>\n",
       "    </tr>\n",
       "    <tr>\n",
       "      <th>min</th>\n",
       "      <td>1.850000</td>\n",
       "      <td>0.000000</td>\n",
       "      <td>2.000000</td>\n",
       "      <td>0.000000</td>\n",
       "      <td>2.000000</td>\n",
       "      <td>0.000000</td>\n",
       "      <td>5.000000</td>\n",
       "      <td>2.000000</td>\n",
       "      <td>0.000000</td>\n",
       "      <td>2.000000</td>\n",
       "      <td>2.000000</td>\n",
       "      <td>0.000000</td>\n",
       "      <td>2.000000</td>\n",
       "      <td>0.000000</td>\n",
       "      <td>2.000000</td>\n",
       "      <td>2.000000</td>\n",
       "      <td>0.000000</td>\n",
       "    </tr>\n",
       "    <tr>\n",
       "      <th>25%</th>\n",
       "      <td>2.370000</td>\n",
       "      <td>0.210000</td>\n",
       "      <td>2.000000</td>\n",
       "      <td>0.000000</td>\n",
       "      <td>2.000000</td>\n",
       "      <td>0.537500</td>\n",
       "      <td>5.000000</td>\n",
       "      <td>2.000000</td>\n",
       "      <td>0.000000</td>\n",
       "      <td>2.000000</td>\n",
       "      <td>2.000000</td>\n",
       "      <td>0.000000</td>\n",
       "      <td>2.000000</td>\n",
       "      <td>0.000000</td>\n",
       "      <td>2.000000</td>\n",
       "      <td>2.000000</td>\n",
       "      <td>0.000000</td>\n",
       "    </tr>\n",
       "    <tr>\n",
       "      <th>50%</th>\n",
       "      <td>3.890000</td>\n",
       "      <td>0.875000</td>\n",
       "      <td>2.000000</td>\n",
       "      <td>0.405000</td>\n",
       "      <td>2.000000</td>\n",
       "      <td>1.370000</td>\n",
       "      <td>5.000000</td>\n",
       "      <td>2.000000</td>\n",
       "      <td>0.090000</td>\n",
       "      <td>2.000000</td>\n",
       "      <td>2.000000</td>\n",
       "      <td>0.000000</td>\n",
       "      <td>2.000000</td>\n",
       "      <td>0.000000</td>\n",
       "      <td>2.000000</td>\n",
       "      <td>2.400000</td>\n",
       "      <td>1.000000</td>\n",
       "    </tr>\n",
       "    <tr>\n",
       "      <th>75%</th>\n",
       "      <td>55.570000</td>\n",
       "      <td>2.480000</td>\n",
       "      <td>6.000000</td>\n",
       "      <td>4.160000</td>\n",
       "      <td>4.000000</td>\n",
       "      <td>7.707500</td>\n",
       "      <td>5.000000</td>\n",
       "      <td>2.000000</td>\n",
       "      <td>5.595000</td>\n",
       "      <td>4.000000</td>\n",
       "      <td>2.000000</td>\n",
       "      <td>0.000000</td>\n",
       "      <td>2.000000</td>\n",
       "      <td>0.000000</td>\n",
       "      <td>2.000000</td>\n",
       "      <td>3.250000</td>\n",
       "      <td>1.000000</td>\n",
       "    </tr>\n",
       "    <tr>\n",
       "      <th>max</th>\n",
       "      <td>59.850000</td>\n",
       "      <td>85.000000</td>\n",
       "      <td>6.000000</td>\n",
       "      <td>1264.630000</td>\n",
       "      <td>6.000000</td>\n",
       "      <td>1268.910000</td>\n",
       "      <td>9.000000</td>\n",
       "      <td>6.000000</td>\n",
       "      <td>935.030000</td>\n",
       "      <td>6.000000</td>\n",
       "      <td>6.000000</td>\n",
       "      <td>2.000000</td>\n",
       "      <td>6.000000</td>\n",
       "      <td>9.000000</td>\n",
       "      <td>6.000000</td>\n",
       "      <td>5.200000</td>\n",
       "      <td>1.000000</td>\n",
       "    </tr>\n",
       "  </tbody>\n",
       "</table>\n",
       "</div>"
      ],
      "text/plain": [
       "       Sector_score      PARA_A     SCORE_A       PARA_B     SCORE_B  \\\n",
       "count    776.000000  776.000000  776.000000   776.000000  776.000000   \n",
       "mean      20.184536    2.450194    3.512887    10.799988    3.131443   \n",
       "std       24.319017    5.678870    1.740549    50.083624    1.698042   \n",
       "min        1.850000    0.000000    2.000000     0.000000    2.000000   \n",
       "25%        2.370000    0.210000    2.000000     0.000000    2.000000   \n",
       "50%        3.890000    0.875000    2.000000     0.405000    2.000000   \n",
       "75%       55.570000    2.480000    6.000000     4.160000    4.000000   \n",
       "max       59.850000   85.000000    6.000000  1264.630000    6.000000   \n",
       "\n",
       "             TOTAL     numbers       Marks  Money_Value  MONEY_Marks  \\\n",
       "count   776.000000  776.000000  776.000000   775.000000   776.000000   \n",
       "mean     13.218481    5.067655    2.237113    14.137631     2.909794   \n",
       "std      51.312829    0.264449    0.803517    66.606519     1.597452   \n",
       "min       0.000000    5.000000    2.000000     0.000000     2.000000   \n",
       "25%       0.537500    5.000000    2.000000     0.000000     2.000000   \n",
       "50%       1.370000    5.000000    2.000000     0.090000     2.000000   \n",
       "75%       7.707500    5.000000    2.000000     5.595000     4.000000   \n",
       "max    1268.910000    9.000000    6.000000   935.030000     6.000000   \n",
       "\n",
       "         District        Loss  LOSS_SCORE     History  History_score  \\\n",
       "count  776.000000  776.000000  776.000000  776.000000     776.000000   \n",
       "mean     2.505155    0.029639    2.061856    0.104381       2.167526   \n",
       "std      1.228678    0.184280    0.375080    0.531031       0.679869   \n",
       "min      2.000000    0.000000    2.000000    0.000000       2.000000   \n",
       "25%      2.000000    0.000000    2.000000    0.000000       2.000000   \n",
       "50%      2.000000    0.000000    2.000000    0.000000       2.000000   \n",
       "75%      2.000000    0.000000    2.000000    0.000000       2.000000   \n",
       "max      6.000000    2.000000    6.000000    9.000000       6.000000   \n",
       "\n",
       "            Score        Risk  \n",
       "count  776.000000  776.000000  \n",
       "mean     2.702577    0.626289  \n",
       "std      0.858923    0.484100  \n",
       "min      2.000000    0.000000  \n",
       "25%      2.000000    0.000000  \n",
       "50%      2.400000    1.000000  \n",
       "75%      3.250000    1.000000  \n",
       "max      5.200000    1.000000  "
      ]
     },
     "execution_count": 16,
     "metadata": {},
     "output_type": "execute_result"
    }
   ],
   "source": [
    "data2.describe()"
   ]
  },
  {
   "cell_type": "markdown",
   "metadata": {},
   "source": [
    "From the below analyses we found out that forest and electrical have the same sector score and the 777th firm which is missing is from the public health sector"
   ]
  },
  {
   "cell_type": "code",
   "execution_count": 17,
   "metadata": {},
   "outputs": [
    {
     "data": {
      "text/plain": [
       "55.57    200\n",
       "3.89     114\n",
       "1.85      95\n",
       "2.72      82\n",
       "3.41      76\n",
       "2.37      74\n",
       "1.99      47\n",
       "21.61     41\n",
       "59.85     37\n",
       "2.34       5\n",
       "15.56      3\n",
       "2.36       1\n",
       "17.68      1\n",
       "Name: Sector_score, dtype: int64"
      ]
     },
     "execution_count": 17,
     "metadata": {},
     "output_type": "execute_result"
    }
   ],
   "source": [
    "# To find the number of firms in each sector in data1\n",
    "data1['Sector_score'].value_counts()"
   ]
  },
  {
   "cell_type": "code",
   "execution_count": 18,
   "metadata": {},
   "outputs": [
    {
     "data": {
      "text/plain": [
       "array([ 3.89,  3.41,  2.72,  2.37,  1.99,  1.85,  2.36,  2.34, 15.56,\n",
       "       17.68, 21.61, 59.85, 55.57])"
      ]
     },
     "execution_count": 18,
     "metadata": {},
     "output_type": "execute_result"
    }
   ],
   "source": [
    "#to find the order in which the sector scores are presesnt\n",
    "data1['Sector_score'].unique()"
   ]
  },
  {
   "cell_type": "code",
   "execution_count": 19,
   "metadata": {},
   "outputs": [
    {
     "data": {
      "text/plain": [
       "55.57    200\n",
       "3.89     114\n",
       "1.85      95\n",
       "2.72      82\n",
       "3.41      76\n",
       "2.37      74\n",
       "1.99      47\n",
       "21.61     41\n",
       "59.85     37\n",
       "2.34       5\n",
       "15.56      3\n",
       "2.36       1\n",
       "17.68      1\n",
       "Name: Sector_score, dtype: int64"
      ]
     },
     "execution_count": 19,
     "metadata": {},
     "output_type": "execute_result"
    }
   ],
   "source": [
    "# to find the number of firms in each sector in data2\n",
    "data1['Sector_score'].value_counts()#to find the order in which the sector scores are presesnt"
   ]
  },
  {
   "cell_type": "code",
   "execution_count": 20,
   "metadata": {},
   "outputs": [
    {
     "data": {
      "text/plain": [
       "array([ 3.89,  3.41,  2.72,  2.37,  1.99,  1.85,  2.36,  2.34, 15.56,\n",
       "       17.68, 21.61, 59.85, 55.57])"
      ]
     },
     "execution_count": 20,
     "metadata": {},
     "output_type": "execute_result"
    }
   ],
   "source": [
    "#to find the order in which the sector scores are presesnt in data2\n",
    "data2['Sector_score'].unique()"
   ]
  },
  {
   "cell_type": "code",
   "execution_count": 21,
   "metadata": {},
   "outputs": [
    {
     "data": {
      "text/html": [
       "<div>\n",
       "<style scoped>\n",
       "    .dataframe tbody tr th:only-of-type {\n",
       "        vertical-align: middle;\n",
       "    }\n",
       "\n",
       "    .dataframe tbody tr th {\n",
       "        vertical-align: top;\n",
       "    }\n",
       "\n",
       "    .dataframe thead th {\n",
       "        text-align: right;\n",
       "    }\n",
       "</style>\n",
       "<table border=\"1\" class=\"dataframe\">\n",
       "  <thead>\n",
       "    <tr style=\"text-align: right;\">\n",
       "      <th></th>\n",
       "      <th>Sector_score</th>\n",
       "      <th>LOCATION_ID</th>\n",
       "      <th>PARA_A</th>\n",
       "      <th>SCORE_A</th>\n",
       "      <th>PARA_B</th>\n",
       "      <th>SCORE_B</th>\n",
       "      <th>TOTAL</th>\n",
       "      <th>numbers</th>\n",
       "      <th>Marks</th>\n",
       "      <th>Money_Value</th>\n",
       "      <th>MONEY_Marks</th>\n",
       "      <th>District</th>\n",
       "      <th>Loss</th>\n",
       "      <th>LOSS_SCORE</th>\n",
       "      <th>History</th>\n",
       "      <th>History_score</th>\n",
       "      <th>Score</th>\n",
       "      <th>Risk</th>\n",
       "    </tr>\n",
       "  </thead>\n",
       "  <tbody>\n",
       "    <tr>\n",
       "      <th>Sector_score</th>\n",
       "      <td>True</td>\n",
       "      <td>False</td>\n",
       "      <td>False</td>\n",
       "      <td>False</td>\n",
       "      <td>False</td>\n",
       "      <td>False</td>\n",
       "      <td>False</td>\n",
       "      <td>False</td>\n",
       "      <td>False</td>\n",
       "      <td>False</td>\n",
       "      <td>False</td>\n",
       "      <td>False</td>\n",
       "      <td>False</td>\n",
       "      <td>False</td>\n",
       "      <td>False</td>\n",
       "      <td>False</td>\n",
       "      <td>False</td>\n",
       "      <td>False</td>\n",
       "    </tr>\n",
       "    <tr>\n",
       "      <th>LOCATION_ID</th>\n",
       "      <td>False</td>\n",
       "      <td>True</td>\n",
       "      <td>False</td>\n",
       "      <td>False</td>\n",
       "      <td>False</td>\n",
       "      <td>False</td>\n",
       "      <td>False</td>\n",
       "      <td>False</td>\n",
       "      <td>False</td>\n",
       "      <td>False</td>\n",
       "      <td>False</td>\n",
       "      <td>False</td>\n",
       "      <td>False</td>\n",
       "      <td>False</td>\n",
       "      <td>False</td>\n",
       "      <td>False</td>\n",
       "      <td>False</td>\n",
       "      <td>False</td>\n",
       "    </tr>\n",
       "    <tr>\n",
       "      <th>PARA_A</th>\n",
       "      <td>False</td>\n",
       "      <td>False</td>\n",
       "      <td>True</td>\n",
       "      <td>False</td>\n",
       "      <td>False</td>\n",
       "      <td>False</td>\n",
       "      <td>False</td>\n",
       "      <td>False</td>\n",
       "      <td>False</td>\n",
       "      <td>False</td>\n",
       "      <td>False</td>\n",
       "      <td>False</td>\n",
       "      <td>False</td>\n",
       "      <td>False</td>\n",
       "      <td>False</td>\n",
       "      <td>False</td>\n",
       "      <td>False</td>\n",
       "      <td>False</td>\n",
       "    </tr>\n",
       "    <tr>\n",
       "      <th>Score_A</th>\n",
       "      <td>False</td>\n",
       "      <td>False</td>\n",
       "      <td>False</td>\n",
       "      <td>False</td>\n",
       "      <td>False</td>\n",
       "      <td>False</td>\n",
       "      <td>False</td>\n",
       "      <td>False</td>\n",
       "      <td>False</td>\n",
       "      <td>False</td>\n",
       "      <td>False</td>\n",
       "      <td>False</td>\n",
       "      <td>False</td>\n",
       "      <td>False</td>\n",
       "      <td>False</td>\n",
       "      <td>False</td>\n",
       "      <td>False</td>\n",
       "      <td>False</td>\n",
       "    </tr>\n",
       "    <tr>\n",
       "      <th>Risk_A</th>\n",
       "      <td>False</td>\n",
       "      <td>False</td>\n",
       "      <td>False</td>\n",
       "      <td>False</td>\n",
       "      <td>False</td>\n",
       "      <td>False</td>\n",
       "      <td>False</td>\n",
       "      <td>False</td>\n",
       "      <td>False</td>\n",
       "      <td>False</td>\n",
       "      <td>False</td>\n",
       "      <td>False</td>\n",
       "      <td>False</td>\n",
       "      <td>False</td>\n",
       "      <td>False</td>\n",
       "      <td>False</td>\n",
       "      <td>False</td>\n",
       "      <td>False</td>\n",
       "    </tr>\n",
       "    <tr>\n",
       "      <th>PARA_B</th>\n",
       "      <td>False</td>\n",
       "      <td>False</td>\n",
       "      <td>False</td>\n",
       "      <td>False</td>\n",
       "      <td>True</td>\n",
       "      <td>False</td>\n",
       "      <td>False</td>\n",
       "      <td>False</td>\n",
       "      <td>False</td>\n",
       "      <td>False</td>\n",
       "      <td>False</td>\n",
       "      <td>False</td>\n",
       "      <td>False</td>\n",
       "      <td>False</td>\n",
       "      <td>False</td>\n",
       "      <td>False</td>\n",
       "      <td>False</td>\n",
       "      <td>False</td>\n",
       "    </tr>\n",
       "    <tr>\n",
       "      <th>Score_B</th>\n",
       "      <td>False</td>\n",
       "      <td>False</td>\n",
       "      <td>False</td>\n",
       "      <td>False</td>\n",
       "      <td>False</td>\n",
       "      <td>False</td>\n",
       "      <td>False</td>\n",
       "      <td>False</td>\n",
       "      <td>False</td>\n",
       "      <td>False</td>\n",
       "      <td>False</td>\n",
       "      <td>False</td>\n",
       "      <td>False</td>\n",
       "      <td>False</td>\n",
       "      <td>False</td>\n",
       "      <td>False</td>\n",
       "      <td>False</td>\n",
       "      <td>False</td>\n",
       "    </tr>\n",
       "    <tr>\n",
       "      <th>Risk_B</th>\n",
       "      <td>False</td>\n",
       "      <td>False</td>\n",
       "      <td>False</td>\n",
       "      <td>False</td>\n",
       "      <td>False</td>\n",
       "      <td>False</td>\n",
       "      <td>False</td>\n",
       "      <td>False</td>\n",
       "      <td>False</td>\n",
       "      <td>False</td>\n",
       "      <td>False</td>\n",
       "      <td>False</td>\n",
       "      <td>False</td>\n",
       "      <td>False</td>\n",
       "      <td>False</td>\n",
       "      <td>False</td>\n",
       "      <td>False</td>\n",
       "      <td>False</td>\n",
       "    </tr>\n",
       "    <tr>\n",
       "      <th>TOTAL</th>\n",
       "      <td>False</td>\n",
       "      <td>False</td>\n",
       "      <td>False</td>\n",
       "      <td>False</td>\n",
       "      <td>False</td>\n",
       "      <td>False</td>\n",
       "      <td>True</td>\n",
       "      <td>False</td>\n",
       "      <td>False</td>\n",
       "      <td>False</td>\n",
       "      <td>False</td>\n",
       "      <td>False</td>\n",
       "      <td>False</td>\n",
       "      <td>False</td>\n",
       "      <td>False</td>\n",
       "      <td>False</td>\n",
       "      <td>False</td>\n",
       "      <td>False</td>\n",
       "    </tr>\n",
       "    <tr>\n",
       "      <th>numbers</th>\n",
       "      <td>False</td>\n",
       "      <td>False</td>\n",
       "      <td>False</td>\n",
       "      <td>False</td>\n",
       "      <td>False</td>\n",
       "      <td>False</td>\n",
       "      <td>False</td>\n",
       "      <td>True</td>\n",
       "      <td>False</td>\n",
       "      <td>False</td>\n",
       "      <td>False</td>\n",
       "      <td>False</td>\n",
       "      <td>False</td>\n",
       "      <td>False</td>\n",
       "      <td>False</td>\n",
       "      <td>False</td>\n",
       "      <td>False</td>\n",
       "      <td>False</td>\n",
       "    </tr>\n",
       "    <tr>\n",
       "      <th>Score_B.1</th>\n",
       "      <td>False</td>\n",
       "      <td>False</td>\n",
       "      <td>False</td>\n",
       "      <td>False</td>\n",
       "      <td>False</td>\n",
       "      <td>False</td>\n",
       "      <td>False</td>\n",
       "      <td>False</td>\n",
       "      <td>False</td>\n",
       "      <td>False</td>\n",
       "      <td>False</td>\n",
       "      <td>False</td>\n",
       "      <td>False</td>\n",
       "      <td>False</td>\n",
       "      <td>False</td>\n",
       "      <td>False</td>\n",
       "      <td>False</td>\n",
       "      <td>False</td>\n",
       "    </tr>\n",
       "    <tr>\n",
       "      <th>Risk_C</th>\n",
       "      <td>False</td>\n",
       "      <td>False</td>\n",
       "      <td>False</td>\n",
       "      <td>False</td>\n",
       "      <td>False</td>\n",
       "      <td>False</td>\n",
       "      <td>False</td>\n",
       "      <td>False</td>\n",
       "      <td>False</td>\n",
       "      <td>False</td>\n",
       "      <td>False</td>\n",
       "      <td>False</td>\n",
       "      <td>False</td>\n",
       "      <td>False</td>\n",
       "      <td>False</td>\n",
       "      <td>False</td>\n",
       "      <td>False</td>\n",
       "      <td>False</td>\n",
       "    </tr>\n",
       "    <tr>\n",
       "      <th>Money_Value</th>\n",
       "      <td>False</td>\n",
       "      <td>False</td>\n",
       "      <td>False</td>\n",
       "      <td>False</td>\n",
       "      <td>False</td>\n",
       "      <td>False</td>\n",
       "      <td>False</td>\n",
       "      <td>False</td>\n",
       "      <td>False</td>\n",
       "      <td>True</td>\n",
       "      <td>False</td>\n",
       "      <td>False</td>\n",
       "      <td>False</td>\n",
       "      <td>False</td>\n",
       "      <td>False</td>\n",
       "      <td>False</td>\n",
       "      <td>False</td>\n",
       "      <td>False</td>\n",
       "    </tr>\n",
       "    <tr>\n",
       "      <th>Score_MV</th>\n",
       "      <td>False</td>\n",
       "      <td>False</td>\n",
       "      <td>False</td>\n",
       "      <td>False</td>\n",
       "      <td>False</td>\n",
       "      <td>False</td>\n",
       "      <td>False</td>\n",
       "      <td>False</td>\n",
       "      <td>False</td>\n",
       "      <td>False</td>\n",
       "      <td>False</td>\n",
       "      <td>False</td>\n",
       "      <td>False</td>\n",
       "      <td>False</td>\n",
       "      <td>False</td>\n",
       "      <td>False</td>\n",
       "      <td>False</td>\n",
       "      <td>False</td>\n",
       "    </tr>\n",
       "    <tr>\n",
       "      <th>Risk_D</th>\n",
       "      <td>False</td>\n",
       "      <td>False</td>\n",
       "      <td>False</td>\n",
       "      <td>False</td>\n",
       "      <td>False</td>\n",
       "      <td>False</td>\n",
       "      <td>False</td>\n",
       "      <td>False</td>\n",
       "      <td>False</td>\n",
       "      <td>False</td>\n",
       "      <td>False</td>\n",
       "      <td>False</td>\n",
       "      <td>False</td>\n",
       "      <td>False</td>\n",
       "      <td>False</td>\n",
       "      <td>False</td>\n",
       "      <td>False</td>\n",
       "      <td>False</td>\n",
       "    </tr>\n",
       "    <tr>\n",
       "      <th>District_Loss</th>\n",
       "      <td>False</td>\n",
       "      <td>False</td>\n",
       "      <td>False</td>\n",
       "      <td>False</td>\n",
       "      <td>False</td>\n",
       "      <td>False</td>\n",
       "      <td>False</td>\n",
       "      <td>False</td>\n",
       "      <td>False</td>\n",
       "      <td>False</td>\n",
       "      <td>False</td>\n",
       "      <td>True</td>\n",
       "      <td>False</td>\n",
       "      <td>False</td>\n",
       "      <td>False</td>\n",
       "      <td>False</td>\n",
       "      <td>False</td>\n",
       "      <td>False</td>\n",
       "    </tr>\n",
       "    <tr>\n",
       "      <th>PROB</th>\n",
       "      <td>False</td>\n",
       "      <td>False</td>\n",
       "      <td>False</td>\n",
       "      <td>False</td>\n",
       "      <td>False</td>\n",
       "      <td>False</td>\n",
       "      <td>False</td>\n",
       "      <td>False</td>\n",
       "      <td>False</td>\n",
       "      <td>False</td>\n",
       "      <td>False</td>\n",
       "      <td>False</td>\n",
       "      <td>False</td>\n",
       "      <td>False</td>\n",
       "      <td>False</td>\n",
       "      <td>False</td>\n",
       "      <td>False</td>\n",
       "      <td>False</td>\n",
       "    </tr>\n",
       "    <tr>\n",
       "      <th>RiSk_E</th>\n",
       "      <td>False</td>\n",
       "      <td>False</td>\n",
       "      <td>False</td>\n",
       "      <td>False</td>\n",
       "      <td>False</td>\n",
       "      <td>False</td>\n",
       "      <td>False</td>\n",
       "      <td>False</td>\n",
       "      <td>False</td>\n",
       "      <td>False</td>\n",
       "      <td>False</td>\n",
       "      <td>False</td>\n",
       "      <td>False</td>\n",
       "      <td>False</td>\n",
       "      <td>False</td>\n",
       "      <td>False</td>\n",
       "      <td>False</td>\n",
       "      <td>False</td>\n",
       "    </tr>\n",
       "    <tr>\n",
       "      <th>History</th>\n",
       "      <td>False</td>\n",
       "      <td>False</td>\n",
       "      <td>False</td>\n",
       "      <td>False</td>\n",
       "      <td>False</td>\n",
       "      <td>False</td>\n",
       "      <td>False</td>\n",
       "      <td>False</td>\n",
       "      <td>False</td>\n",
       "      <td>False</td>\n",
       "      <td>False</td>\n",
       "      <td>False</td>\n",
       "      <td>False</td>\n",
       "      <td>False</td>\n",
       "      <td>True</td>\n",
       "      <td>False</td>\n",
       "      <td>False</td>\n",
       "      <td>False</td>\n",
       "    </tr>\n",
       "    <tr>\n",
       "      <th>Prob</th>\n",
       "      <td>False</td>\n",
       "      <td>False</td>\n",
       "      <td>False</td>\n",
       "      <td>False</td>\n",
       "      <td>False</td>\n",
       "      <td>False</td>\n",
       "      <td>False</td>\n",
       "      <td>False</td>\n",
       "      <td>False</td>\n",
       "      <td>False</td>\n",
       "      <td>False</td>\n",
       "      <td>False</td>\n",
       "      <td>False</td>\n",
       "      <td>False</td>\n",
       "      <td>False</td>\n",
       "      <td>False</td>\n",
       "      <td>False</td>\n",
       "      <td>False</td>\n",
       "    </tr>\n",
       "    <tr>\n",
       "      <th>Risk_F</th>\n",
       "      <td>False</td>\n",
       "      <td>False</td>\n",
       "      <td>False</td>\n",
       "      <td>False</td>\n",
       "      <td>False</td>\n",
       "      <td>False</td>\n",
       "      <td>False</td>\n",
       "      <td>False</td>\n",
       "      <td>False</td>\n",
       "      <td>False</td>\n",
       "      <td>False</td>\n",
       "      <td>False</td>\n",
       "      <td>False</td>\n",
       "      <td>False</td>\n",
       "      <td>False</td>\n",
       "      <td>False</td>\n",
       "      <td>False</td>\n",
       "      <td>False</td>\n",
       "    </tr>\n",
       "    <tr>\n",
       "      <th>Score</th>\n",
       "      <td>False</td>\n",
       "      <td>False</td>\n",
       "      <td>False</td>\n",
       "      <td>False</td>\n",
       "      <td>False</td>\n",
       "      <td>False</td>\n",
       "      <td>False</td>\n",
       "      <td>False</td>\n",
       "      <td>False</td>\n",
       "      <td>False</td>\n",
       "      <td>False</td>\n",
       "      <td>False</td>\n",
       "      <td>False</td>\n",
       "      <td>False</td>\n",
       "      <td>False</td>\n",
       "      <td>False</td>\n",
       "      <td>True</td>\n",
       "      <td>False</td>\n",
       "    </tr>\n",
       "    <tr>\n",
       "      <th>Inherent_Risk</th>\n",
       "      <td>False</td>\n",
       "      <td>False</td>\n",
       "      <td>False</td>\n",
       "      <td>False</td>\n",
       "      <td>False</td>\n",
       "      <td>False</td>\n",
       "      <td>False</td>\n",
       "      <td>False</td>\n",
       "      <td>False</td>\n",
       "      <td>False</td>\n",
       "      <td>False</td>\n",
       "      <td>False</td>\n",
       "      <td>False</td>\n",
       "      <td>False</td>\n",
       "      <td>False</td>\n",
       "      <td>False</td>\n",
       "      <td>False</td>\n",
       "      <td>False</td>\n",
       "    </tr>\n",
       "    <tr>\n",
       "      <th>CONTROL_RISK</th>\n",
       "      <td>False</td>\n",
       "      <td>False</td>\n",
       "      <td>False</td>\n",
       "      <td>False</td>\n",
       "      <td>False</td>\n",
       "      <td>False</td>\n",
       "      <td>False</td>\n",
       "      <td>False</td>\n",
       "      <td>False</td>\n",
       "      <td>False</td>\n",
       "      <td>False</td>\n",
       "      <td>False</td>\n",
       "      <td>False</td>\n",
       "      <td>False</td>\n",
       "      <td>False</td>\n",
       "      <td>False</td>\n",
       "      <td>False</td>\n",
       "      <td>False</td>\n",
       "    </tr>\n",
       "    <tr>\n",
       "      <th>Detection_Risk</th>\n",
       "      <td>False</td>\n",
       "      <td>False</td>\n",
       "      <td>False</td>\n",
       "      <td>False</td>\n",
       "      <td>False</td>\n",
       "      <td>False</td>\n",
       "      <td>False</td>\n",
       "      <td>False</td>\n",
       "      <td>False</td>\n",
       "      <td>False</td>\n",
       "      <td>False</td>\n",
       "      <td>False</td>\n",
       "      <td>False</td>\n",
       "      <td>False</td>\n",
       "      <td>False</td>\n",
       "      <td>False</td>\n",
       "      <td>False</td>\n",
       "      <td>False</td>\n",
       "    </tr>\n",
       "    <tr>\n",
       "      <th>Audit_Risk</th>\n",
       "      <td>False</td>\n",
       "      <td>False</td>\n",
       "      <td>False</td>\n",
       "      <td>False</td>\n",
       "      <td>False</td>\n",
       "      <td>False</td>\n",
       "      <td>False</td>\n",
       "      <td>False</td>\n",
       "      <td>False</td>\n",
       "      <td>False</td>\n",
       "      <td>False</td>\n",
       "      <td>False</td>\n",
       "      <td>False</td>\n",
       "      <td>False</td>\n",
       "      <td>False</td>\n",
       "      <td>False</td>\n",
       "      <td>False</td>\n",
       "      <td>False</td>\n",
       "    </tr>\n",
       "    <tr>\n",
       "      <th>Risk</th>\n",
       "      <td>False</td>\n",
       "      <td>False</td>\n",
       "      <td>False</td>\n",
       "      <td>False</td>\n",
       "      <td>False</td>\n",
       "      <td>False</td>\n",
       "      <td>False</td>\n",
       "      <td>False</td>\n",
       "      <td>False</td>\n",
       "      <td>False</td>\n",
       "      <td>False</td>\n",
       "      <td>False</td>\n",
       "      <td>False</td>\n",
       "      <td>False</td>\n",
       "      <td>False</td>\n",
       "      <td>False</td>\n",
       "      <td>False</td>\n",
       "      <td>False</td>\n",
       "    </tr>\n",
       "  </tbody>\n",
       "</table>\n",
       "</div>"
      ],
      "text/plain": [
       "                Sector_score  LOCATION_ID  PARA_A  SCORE_A  PARA_B  SCORE_B  \\\n",
       "Sector_score            True        False   False    False   False    False   \n",
       "LOCATION_ID            False         True   False    False   False    False   \n",
       "PARA_A                 False        False    True    False   False    False   \n",
       "Score_A                False        False   False    False   False    False   \n",
       "Risk_A                 False        False   False    False   False    False   \n",
       "PARA_B                 False        False   False    False    True    False   \n",
       "Score_B                False        False   False    False   False    False   \n",
       "Risk_B                 False        False   False    False   False    False   \n",
       "TOTAL                  False        False   False    False   False    False   \n",
       "numbers                False        False   False    False   False    False   \n",
       "Score_B.1              False        False   False    False   False    False   \n",
       "Risk_C                 False        False   False    False   False    False   \n",
       "Money_Value            False        False   False    False   False    False   \n",
       "Score_MV               False        False   False    False   False    False   \n",
       "Risk_D                 False        False   False    False   False    False   \n",
       "District_Loss          False        False   False    False   False    False   \n",
       "PROB                   False        False   False    False   False    False   \n",
       "RiSk_E                 False        False   False    False   False    False   \n",
       "History                False        False   False    False   False    False   \n",
       "Prob                   False        False   False    False   False    False   \n",
       "Risk_F                 False        False   False    False   False    False   \n",
       "Score                  False        False   False    False   False    False   \n",
       "Inherent_Risk          False        False   False    False   False    False   \n",
       "CONTROL_RISK           False        False   False    False   False    False   \n",
       "Detection_Risk         False        False   False    False   False    False   \n",
       "Audit_Risk             False        False   False    False   False    False   \n",
       "Risk                   False        False   False    False   False    False   \n",
       "\n",
       "                TOTAL  numbers  Marks  Money_Value  MONEY_Marks  District  \\\n",
       "Sector_score    False    False  False        False        False     False   \n",
       "LOCATION_ID     False    False  False        False        False     False   \n",
       "PARA_A          False    False  False        False        False     False   \n",
       "Score_A         False    False  False        False        False     False   \n",
       "Risk_A          False    False  False        False        False     False   \n",
       "PARA_B          False    False  False        False        False     False   \n",
       "Score_B         False    False  False        False        False     False   \n",
       "Risk_B          False    False  False        False        False     False   \n",
       "TOTAL            True    False  False        False        False     False   \n",
       "numbers         False     True  False        False        False     False   \n",
       "Score_B.1       False    False  False        False        False     False   \n",
       "Risk_C          False    False  False        False        False     False   \n",
       "Money_Value     False    False  False         True        False     False   \n",
       "Score_MV        False    False  False        False        False     False   \n",
       "Risk_D          False    False  False        False        False     False   \n",
       "District_Loss   False    False  False        False        False      True   \n",
       "PROB            False    False  False        False        False     False   \n",
       "RiSk_E          False    False  False        False        False     False   \n",
       "History         False    False  False        False        False     False   \n",
       "Prob            False    False  False        False        False     False   \n",
       "Risk_F          False    False  False        False        False     False   \n",
       "Score           False    False  False        False        False     False   \n",
       "Inherent_Risk   False    False  False        False        False     False   \n",
       "CONTROL_RISK    False    False  False        False        False     False   \n",
       "Detection_Risk  False    False  False        False        False     False   \n",
       "Audit_Risk      False    False  False        False        False     False   \n",
       "Risk            False    False  False        False        False     False   \n",
       "\n",
       "                 Loss  LOSS_SCORE  History  History_score  Score   Risk  \n",
       "Sector_score    False       False    False          False  False  False  \n",
       "LOCATION_ID     False       False    False          False  False  False  \n",
       "PARA_A          False       False    False          False  False  False  \n",
       "Score_A         False       False    False          False  False  False  \n",
       "Risk_A          False       False    False          False  False  False  \n",
       "PARA_B          False       False    False          False  False  False  \n",
       "Score_B         False       False    False          False  False  False  \n",
       "Risk_B          False       False    False          False  False  False  \n",
       "TOTAL           False       False    False          False  False  False  \n",
       "numbers         False       False    False          False  False  False  \n",
       "Score_B.1       False       False    False          False  False  False  \n",
       "Risk_C          False       False    False          False  False  False  \n",
       "Money_Value     False       False    False          False  False  False  \n",
       "Score_MV        False       False    False          False  False  False  \n",
       "Risk_D          False       False    False          False  False  False  \n",
       "District_Loss   False       False    False          False  False  False  \n",
       "PROB            False       False    False          False  False  False  \n",
       "RiSk_E          False       False    False          False  False  False  \n",
       "History         False       False     True          False  False  False  \n",
       "Prob            False       False    False          False  False  False  \n",
       "Risk_F          False       False    False          False  False  False  \n",
       "Score           False       False    False          False   True  False  \n",
       "Inherent_Risk   False       False    False          False  False  False  \n",
       "CONTROL_RISK    False       False    False          False  False  False  \n",
       "Detection_Risk  False       False    False          False  False  False  \n",
       "Audit_Risk      False       False    False          False  False  False  \n",
       "Risk            False       False    False          False  False  False  "
      ]
     },
     "execution_count": 21,
     "metadata": {},
     "output_type": "execute_result"
    }
   ],
   "source": [
    "#checking weather similar columns are same or diff in bot data1 and data2\n",
    "list3=list(data1.columns)\n",
    "list4=list(data2.columns)\n",
    "list5=[]\n",
    "for item1 in (list3):\n",
    "    for item2 in (list4):\n",
    "        val= data1[item1].equals(data2[item2])\n",
    "        list5.append(val)\n",
    "mat=np.matrix(np.array(list5).reshape(len(list3),len(list4)))\n",
    "df= pd.DataFrame(mat,list3,list4)\n",
    "df"
   ]
  },
  {
   "cell_type": "markdown",
   "metadata": {},
   "source": [
    "Going by the Dataframe generated above and the dataset descriptions, The columns which should be simalar and are not were identified and the correlation was seen between those columns. Theese columns had 100% corrrel so we decided to take only loss and loss_score from data2"
   ]
  },
  {
   "cell_type": "code",
   "execution_count": 22,
   "metadata": {},
   "outputs": [
    {
     "data": {
      "text/plain": [
       "<matplotlib.axes._subplots.AxesSubplot at 0x1438886d080>"
      ]
     },
     "execution_count": 22,
     "metadata": {},
     "output_type": "execute_result"
    },
    {
     "data": {
      "image/png": "[encoded data removed]",
      "text/plain": [
       "<Figure size 432x288 with 2 Axes>"
      ]
     },
     "metadata": {
      "needs_background": "light"
     },
     "output_type": "display_data"
    }
   ],
   "source": [
    "#data1 score a , data2 score a are diff\n",
    "#data1 score b and data2 scoreb\n",
    "#score mv and money marks\n",
    "#scoreb.1 and marks are diff\n",
    "#district loss and district are the same \n",
    "#prob and history score are diffrent\n",
    "#risk is diff in each column\n",
    "#money_value and money marks are diff\n",
    "dat_cor1=data1[['Score_A','Score_B','Score_MV','Score_B.1','Prob']]\n",
    "dat_cor1.index.names=['key']\n",
    "dat_cor2=data2[['SCORE_A','SCORE_B','MONEY_Marks','Marks']]\n",
    "dat_cor2.index.names=['key']\n",
    "dat_cor=pd.merge(dat_cor1,dat_cor2,on=['key'],how='inner')\n",
    "sns.heatmap(dat_cor.corr(),annot= True,linecolor='white',linewidths=3)"
   ]
  },
  {
   "cell_type": "markdown",
   "metadata": {},
   "source": [
    "By the below analysis we found out that if the audit risk score is greater than 1 risk is 1, and if the audit risk score is less than 1 risk is 0. Also Risk in Data1 and Risk in Data 2 should be the same but they are different on 181 instances.\n",
    "so we dont take the risk column from data2"
   ]
  },
  {
   "cell_type": "code",
   "execution_count": 23,
   "metadata": {},
   "outputs": [
    {
     "data": {
      "text/plain": [
       "0    181\n",
       "Name: Risk, dtype: int64"
      ]
     },
     "execution_count": 23,
     "metadata": {},
     "output_type": "execute_result"
    }
   ],
   "source": [
    "data1['Risk'].equals(data2['Risk'])\n",
    "list1=list(data1['Risk'][data1['Risk']!=data2['Risk']].index)\n",
    "d1risk=data1.iloc[list1,26]\n",
    "pd.DataFrame(d1risk)['Risk'].value_counts()"
   ]
  },
  {
   "cell_type": "code",
   "execution_count": 24,
   "metadata": {},
   "outputs": [
    {
     "data": {
      "text/plain": [
       "1    181\n",
       "Name: Risk, dtype: int64"
      ]
     },
     "execution_count": 24,
     "metadata": {},
     "output_type": "execute_result"
    }
   ],
   "source": [
    "d2risk=data2.iloc[list1,17]\n",
    "pd.DataFrame(d2risk)['Risk'].value_counts()"
   ]
  },
  {
   "cell_type": "code",
   "execution_count": 25,
   "metadata": {},
   "outputs": [
    {
     "data": {
      "text/html": [
       "<div>\n",
       "<style scoped>\n",
       "    .dataframe tbody tr th:only-of-type {\n",
       "        vertical-align: middle;\n",
       "    }\n",
       "\n",
       "    .dataframe tbody tr th {\n",
       "        vertical-align: top;\n",
       "    }\n",
       "\n",
       "    .dataframe thead th {\n",
       "        text-align: right;\n",
       "    }\n",
       "</style>\n",
       "<table border=\"1\" class=\"dataframe\">\n",
       "  <thead>\n",
       "    <tr style=\"text-align: right;\">\n",
       "      <th></th>\n",
       "      <th>Sector_score</th>\n",
       "      <th>LOCATION_ID</th>\n",
       "      <th>PARA_A</th>\n",
       "      <th>Score_A</th>\n",
       "      <th>Risk_A</th>\n",
       "      <th>PARA_B</th>\n",
       "      <th>Score_B</th>\n",
       "      <th>Risk_B</th>\n",
       "      <th>TOTAL</th>\n",
       "      <th>numbers</th>\n",
       "      <th>...</th>\n",
       "      <th>RiSk_E</th>\n",
       "      <th>History</th>\n",
       "      <th>Prob</th>\n",
       "      <th>Risk_F</th>\n",
       "      <th>Score</th>\n",
       "      <th>Inherent_Risk</th>\n",
       "      <th>CONTROL_RISK</th>\n",
       "      <th>Detection_Risk</th>\n",
       "      <th>Audit_Risk</th>\n",
       "      <th>Risk</th>\n",
       "    </tr>\n",
       "    <tr>\n",
       "      <th>key</th>\n",
       "      <th></th>\n",
       "      <th></th>\n",
       "      <th></th>\n",
       "      <th></th>\n",
       "      <th></th>\n",
       "      <th></th>\n",
       "      <th></th>\n",
       "      <th></th>\n",
       "      <th></th>\n",
       "      <th></th>\n",
       "      <th></th>\n",
       "      <th></th>\n",
       "      <th></th>\n",
       "      <th></th>\n",
       "      <th></th>\n",
       "      <th></th>\n",
       "      <th></th>\n",
       "      <th></th>\n",
       "      <th></th>\n",
       "      <th></th>\n",
       "      <th></th>\n",
       "    </tr>\n",
       "  </thead>\n",
       "  <tbody>\n",
       "    <tr>\n",
       "      <th>9</th>\n",
       "      <td>3.89</td>\n",
       "      <td>8</td>\n",
       "      <td>3.98</td>\n",
       "      <td>0.6</td>\n",
       "      <td>2.388</td>\n",
       "      <td>0.99</td>\n",
       "      <td>0.2</td>\n",
       "      <td>0.198</td>\n",
       "      <td>4.97</td>\n",
       "      <td>5.0</td>\n",
       "      <td>...</td>\n",
       "      <td>0.4</td>\n",
       "      <td>0</td>\n",
       "      <td>0.2</td>\n",
       "      <td>0.0</td>\n",
       "      <td>2.4</td>\n",
       "      <td>4.372</td>\n",
       "      <td>0.4</td>\n",
       "      <td>0.5</td>\n",
       "      <td>0.8744</td>\n",
       "      <td>0</td>\n",
       "    </tr>\n",
       "    <tr>\n",
       "      <th>13</th>\n",
       "      <td>3.89</td>\n",
       "      <td>8</td>\n",
       "      <td>1.09</td>\n",
       "      <td>0.4</td>\n",
       "      <td>0.436</td>\n",
       "      <td>0.35</td>\n",
       "      <td>0.2</td>\n",
       "      <td>0.070</td>\n",
       "      <td>1.44</td>\n",
       "      <td>5.0</td>\n",
       "      <td>...</td>\n",
       "      <td>0.4</td>\n",
       "      <td>0</td>\n",
       "      <td>0.2</td>\n",
       "      <td>0.0</td>\n",
       "      <td>2.2</td>\n",
       "      <td>1.906</td>\n",
       "      <td>0.4</td>\n",
       "      <td>0.5</td>\n",
       "      <td>0.3812</td>\n",
       "      <td>0</td>\n",
       "    </tr>\n",
       "    <tr>\n",
       "      <th>18</th>\n",
       "      <td>3.89</td>\n",
       "      <td>37</td>\n",
       "      <td>1.81</td>\n",
       "      <td>0.4</td>\n",
       "      <td>0.724</td>\n",
       "      <td>1.03</td>\n",
       "      <td>0.2</td>\n",
       "      <td>0.206</td>\n",
       "      <td>2.84</td>\n",
       "      <td>5.0</td>\n",
       "      <td>...</td>\n",
       "      <td>0.4</td>\n",
       "      <td>0</td>\n",
       "      <td>0.2</td>\n",
       "      <td>0.0</td>\n",
       "      <td>2.2</td>\n",
       "      <td>2.330</td>\n",
       "      <td>0.4</td>\n",
       "      <td>0.5</td>\n",
       "      <td>0.4660</td>\n",
       "      <td>0</td>\n",
       "    </tr>\n",
       "    <tr>\n",
       "      <th>21</th>\n",
       "      <td>3.89</td>\n",
       "      <td>3</td>\n",
       "      <td>0.02</td>\n",
       "      <td>0.2</td>\n",
       "      <td>0.004</td>\n",
       "      <td>5.94</td>\n",
       "      <td>0.4</td>\n",
       "      <td>2.376</td>\n",
       "      <td>5.96</td>\n",
       "      <td>5.0</td>\n",
       "      <td>...</td>\n",
       "      <td>0.4</td>\n",
       "      <td>0</td>\n",
       "      <td>0.2</td>\n",
       "      <td>0.0</td>\n",
       "      <td>2.6</td>\n",
       "      <td>3.782</td>\n",
       "      <td>0.4</td>\n",
       "      <td>0.5</td>\n",
       "      <td>0.7564</td>\n",
       "      <td>0</td>\n",
       "    </tr>\n",
       "    <tr>\n",
       "      <th>29</th>\n",
       "      <td>3.89</td>\n",
       "      <td>37</td>\n",
       "      <td>0.00</td>\n",
       "      <td>0.2</td>\n",
       "      <td>0.000</td>\n",
       "      <td>0.75</td>\n",
       "      <td>0.2</td>\n",
       "      <td>0.150</td>\n",
       "      <td>0.75</td>\n",
       "      <td>5.0</td>\n",
       "      <td>...</td>\n",
       "      <td>0.4</td>\n",
       "      <td>0</td>\n",
       "      <td>0.2</td>\n",
       "      <td>0.0</td>\n",
       "      <td>2.2</td>\n",
       "      <td>4.262</td>\n",
       "      <td>0.4</td>\n",
       "      <td>0.5</td>\n",
       "      <td>0.8524</td>\n",
       "      <td>0</td>\n",
       "    </tr>\n",
       "    <tr>\n",
       "      <th>44</th>\n",
       "      <td>3.89</td>\n",
       "      <td>19</td>\n",
       "      <td>1.32</td>\n",
       "      <td>0.4</td>\n",
       "      <td>0.528</td>\n",
       "      <td>0.00</td>\n",
       "      <td>0.2</td>\n",
       "      <td>0.000</td>\n",
       "      <td>1.32</td>\n",
       "      <td>5.0</td>\n",
       "      <td>...</td>\n",
       "      <td>0.4</td>\n",
       "      <td>0</td>\n",
       "      <td>0.2</td>\n",
       "      <td>0.0</td>\n",
       "      <td>2.2</td>\n",
       "      <td>1.940</td>\n",
       "      <td>0.4</td>\n",
       "      <td>0.5</td>\n",
       "      <td>0.3880</td>\n",
       "      <td>0</td>\n",
       "    </tr>\n",
       "    <tr>\n",
       "      <th>52</th>\n",
       "      <td>3.89</td>\n",
       "      <td>22</td>\n",
       "      <td>0.00</td>\n",
       "      <td>0.2</td>\n",
       "      <td>0.000</td>\n",
       "      <td>0.93</td>\n",
       "      <td>0.2</td>\n",
       "      <td>0.186</td>\n",
       "      <td>0.93</td>\n",
       "      <td>5.0</td>\n",
       "      <td>...</td>\n",
       "      <td>0.4</td>\n",
       "      <td>0</td>\n",
       "      <td>0.2</td>\n",
       "      <td>0.0</td>\n",
       "      <td>2.2</td>\n",
       "      <td>4.698</td>\n",
       "      <td>0.4</td>\n",
       "      <td>0.5</td>\n",
       "      <td>0.9396</td>\n",
       "      <td>0</td>\n",
       "    </tr>\n",
       "    <tr>\n",
       "      <th>61</th>\n",
       "      <td>3.89</td>\n",
       "      <td>11</td>\n",
       "      <td>1.26</td>\n",
       "      <td>0.4</td>\n",
       "      <td>0.504</td>\n",
       "      <td>0.05</td>\n",
       "      <td>0.2</td>\n",
       "      <td>0.010</td>\n",
       "      <td>1.31</td>\n",
       "      <td>5.0</td>\n",
       "      <td>...</td>\n",
       "      <td>0.4</td>\n",
       "      <td>0</td>\n",
       "      <td>0.2</td>\n",
       "      <td>0.0</td>\n",
       "      <td>2.2</td>\n",
       "      <td>1.914</td>\n",
       "      <td>0.4</td>\n",
       "      <td>0.5</td>\n",
       "      <td>0.3828</td>\n",
       "      <td>0</td>\n",
       "    </tr>\n",
       "    <tr>\n",
       "      <th>68</th>\n",
       "      <td>3.89</td>\n",
       "      <td>12</td>\n",
       "      <td>1.07</td>\n",
       "      <td>0.4</td>\n",
       "      <td>0.428</td>\n",
       "      <td>0.00</td>\n",
       "      <td>0.2</td>\n",
       "      <td>0.000</td>\n",
       "      <td>1.07</td>\n",
       "      <td>5.0</td>\n",
       "      <td>...</td>\n",
       "      <td>0.4</td>\n",
       "      <td>0</td>\n",
       "      <td>0.2</td>\n",
       "      <td>0.0</td>\n",
       "      <td>2.2</td>\n",
       "      <td>1.828</td>\n",
       "      <td>0.4</td>\n",
       "      <td>0.5</td>\n",
       "      <td>0.3656</td>\n",
       "      <td>0</td>\n",
       "    </tr>\n",
       "    <tr>\n",
       "      <th>79</th>\n",
       "      <td>3.89</td>\n",
       "      <td>2</td>\n",
       "      <td>0.00</td>\n",
       "      <td>0.2</td>\n",
       "      <td>0.000</td>\n",
       "      <td>7.37</td>\n",
       "      <td>0.4</td>\n",
       "      <td>2.948</td>\n",
       "      <td>7.37</td>\n",
       "      <td>5.0</td>\n",
       "      <td>...</td>\n",
       "      <td>0.4</td>\n",
       "      <td>0</td>\n",
       "      <td>0.2</td>\n",
       "      <td>0.0</td>\n",
       "      <td>2.6</td>\n",
       "      <td>4.496</td>\n",
       "      <td>0.4</td>\n",
       "      <td>0.5</td>\n",
       "      <td>0.8992</td>\n",
       "      <td>0</td>\n",
       "    </tr>\n",
       "  </tbody>\n",
       "</table>\n",
       "<p>10 rows × 27 columns</p>\n",
       "</div>"
      ],
      "text/plain": [
       "     Sector_score LOCATION_ID  PARA_A  Score_A  Risk_A  PARA_B  Score_B  \\\n",
       "key                                                                       \n",
       "9            3.89           8    3.98      0.6   2.388    0.99      0.2   \n",
       "13           3.89           8    1.09      0.4   0.436    0.35      0.2   \n",
       "18           3.89          37    1.81      0.4   0.724    1.03      0.2   \n",
       "21           3.89           3    0.02      0.2   0.004    5.94      0.4   \n",
       "29           3.89          37    0.00      0.2   0.000    0.75      0.2   \n",
       "44           3.89          19    1.32      0.4   0.528    0.00      0.2   \n",
       "52           3.89          22    0.00      0.2   0.000    0.93      0.2   \n",
       "61           3.89          11    1.26      0.4   0.504    0.05      0.2   \n",
       "68           3.89          12    1.07      0.4   0.428    0.00      0.2   \n",
       "79           3.89           2    0.00      0.2   0.000    7.37      0.4   \n",
       "\n",
       "     Risk_B  TOTAL  numbers  ...  RiSk_E  History  Prob  Risk_F  Score  \\\n",
       "key                          ...                                         \n",
       "9     0.198   4.97      5.0  ...     0.4        0   0.2     0.0    2.4   \n",
       "13    0.070   1.44      5.0  ...     0.4        0   0.2     0.0    2.2   \n",
       "18    0.206   2.84      5.0  ...     0.4        0   0.2     0.0    2.2   \n",
       "21    2.376   5.96      5.0  ...     0.4        0   0.2     0.0    2.6   \n",
       "29    0.150   0.75      5.0  ...     0.4        0   0.2     0.0    2.2   \n",
       "44    0.000   1.32      5.0  ...     0.4        0   0.2     0.0    2.2   \n",
       "52    0.186   0.93      5.0  ...     0.4        0   0.2     0.0    2.2   \n",
       "61    0.010   1.31      5.0  ...     0.4        0   0.2     0.0    2.2   \n",
       "68    0.000   1.07      5.0  ...     0.4        0   0.2     0.0    2.2   \n",
       "79    2.948   7.37      5.0  ...     0.4        0   0.2     0.0    2.6   \n",
       "\n",
       "     Inherent_Risk  CONTROL_RISK  Detection_Risk  Audit_Risk  Risk  \n",
       "key                                                                 \n",
       "9            4.372           0.4             0.5      0.8744     0  \n",
       "13           1.906           0.4             0.5      0.3812     0  \n",
       "18           2.330           0.4             0.5      0.4660     0  \n",
       "21           3.782           0.4             0.5      0.7564     0  \n",
       "29           4.262           0.4             0.5      0.8524     0  \n",
       "44           1.940           0.4             0.5      0.3880     0  \n",
       "52           4.698           0.4             0.5      0.9396     0  \n",
       "61           1.914           0.4             0.5      0.3828     0  \n",
       "68           1.828           0.4             0.5      0.3656     0  \n",
       "79           4.496           0.4             0.5      0.8992     0  \n",
       "\n",
       "[10 rows x 27 columns]"
      ]
     },
     "execution_count": 25,
     "metadata": {},
     "output_type": "execute_result"
    }
   ],
   "source": [
    "data1.iloc[list1,:].head(10)"
   ]
  },
  {
   "cell_type": "code",
   "execution_count": 26,
   "metadata": {},
   "outputs": [
    {
     "data": {
      "text/html": [
       "<div>\n",
       "<style scoped>\n",
       "    .dataframe tbody tr th:only-of-type {\n",
       "        vertical-align: middle;\n",
       "    }\n",
       "\n",
       "    .dataframe tbody tr th {\n",
       "        vertical-align: top;\n",
       "    }\n",
       "\n",
       "    .dataframe thead th {\n",
       "        text-align: right;\n",
       "    }\n",
       "</style>\n",
       "<table border=\"1\" class=\"dataframe\">\n",
       "  <thead>\n",
       "    <tr style=\"text-align: right;\">\n",
       "      <th></th>\n",
       "      <th>Sector_score</th>\n",
       "      <th>LOCATION_ID</th>\n",
       "      <th>PARA_A</th>\n",
       "      <th>SCORE_A</th>\n",
       "      <th>PARA_B</th>\n",
       "      <th>SCORE_B</th>\n",
       "      <th>TOTAL</th>\n",
       "      <th>numbers</th>\n",
       "      <th>Marks</th>\n",
       "      <th>Money_Value</th>\n",
       "      <th>MONEY_Marks</th>\n",
       "      <th>District</th>\n",
       "      <th>Loss</th>\n",
       "      <th>LOSS_SCORE</th>\n",
       "      <th>History</th>\n",
       "      <th>History_score</th>\n",
       "      <th>Score</th>\n",
       "      <th>Risk</th>\n",
       "    </tr>\n",
       "    <tr>\n",
       "      <th>key</th>\n",
       "      <th></th>\n",
       "      <th></th>\n",
       "      <th></th>\n",
       "      <th></th>\n",
       "      <th></th>\n",
       "      <th></th>\n",
       "      <th></th>\n",
       "      <th></th>\n",
       "      <th></th>\n",
       "      <th></th>\n",
       "      <th></th>\n",
       "      <th></th>\n",
       "      <th></th>\n",
       "      <th></th>\n",
       "      <th></th>\n",
       "      <th></th>\n",
       "      <th></th>\n",
       "      <th></th>\n",
       "    </tr>\n",
       "  </thead>\n",
       "  <tbody>\n",
       "    <tr>\n",
       "      <th>9</th>\n",
       "      <td>3.89</td>\n",
       "      <td>8</td>\n",
       "      <td>3.98</td>\n",
       "      <td>6</td>\n",
       "      <td>0.99</td>\n",
       "      <td>2</td>\n",
       "      <td>4.97</td>\n",
       "      <td>5.0</td>\n",
       "      <td>2</td>\n",
       "      <td>1.93</td>\n",
       "      <td>2</td>\n",
       "      <td>2</td>\n",
       "      <td>0</td>\n",
       "      <td>2</td>\n",
       "      <td>0</td>\n",
       "      <td>2</td>\n",
       "      <td>2.4</td>\n",
       "      <td>1</td>\n",
       "    </tr>\n",
       "    <tr>\n",
       "      <th>13</th>\n",
       "      <td>3.89</td>\n",
       "      <td>8</td>\n",
       "      <td>1.09</td>\n",
       "      <td>4</td>\n",
       "      <td>0.35</td>\n",
       "      <td>2</td>\n",
       "      <td>1.44</td>\n",
       "      <td>5.0</td>\n",
       "      <td>2</td>\n",
       "      <td>0.00</td>\n",
       "      <td>2</td>\n",
       "      <td>2</td>\n",
       "      <td>0</td>\n",
       "      <td>2</td>\n",
       "      <td>0</td>\n",
       "      <td>2</td>\n",
       "      <td>2.2</td>\n",
       "      <td>1</td>\n",
       "    </tr>\n",
       "    <tr>\n",
       "      <th>18</th>\n",
       "      <td>3.89</td>\n",
       "      <td>37</td>\n",
       "      <td>1.81</td>\n",
       "      <td>4</td>\n",
       "      <td>1.03</td>\n",
       "      <td>2</td>\n",
       "      <td>2.84</td>\n",
       "      <td>5.0</td>\n",
       "      <td>2</td>\n",
       "      <td>0.00</td>\n",
       "      <td>2</td>\n",
       "      <td>2</td>\n",
       "      <td>0</td>\n",
       "      <td>2</td>\n",
       "      <td>0</td>\n",
       "      <td>2</td>\n",
       "      <td>2.2</td>\n",
       "      <td>1</td>\n",
       "    </tr>\n",
       "    <tr>\n",
       "      <th>21</th>\n",
       "      <td>3.89</td>\n",
       "      <td>3</td>\n",
       "      <td>0.02</td>\n",
       "      <td>2</td>\n",
       "      <td>5.94</td>\n",
       "      <td>4</td>\n",
       "      <td>5.96</td>\n",
       "      <td>5.0</td>\n",
       "      <td>2</td>\n",
       "      <td>0.01</td>\n",
       "      <td>2</td>\n",
       "      <td>2</td>\n",
       "      <td>0</td>\n",
       "      <td>2</td>\n",
       "      <td>0</td>\n",
       "      <td>2</td>\n",
       "      <td>2.6</td>\n",
       "      <td>1</td>\n",
       "    </tr>\n",
       "    <tr>\n",
       "      <th>29</th>\n",
       "      <td>3.89</td>\n",
       "      <td>37</td>\n",
       "      <td>0.00</td>\n",
       "      <td>2</td>\n",
       "      <td>0.75</td>\n",
       "      <td>2</td>\n",
       "      <td>0.75</td>\n",
       "      <td>5.0</td>\n",
       "      <td>2</td>\n",
       "      <td>6.78</td>\n",
       "      <td>4</td>\n",
       "      <td>2</td>\n",
       "      <td>0</td>\n",
       "      <td>2</td>\n",
       "      <td>0</td>\n",
       "      <td>2</td>\n",
       "      <td>2.2</td>\n",
       "      <td>1</td>\n",
       "    </tr>\n",
       "    <tr>\n",
       "      <th>44</th>\n",
       "      <td>3.89</td>\n",
       "      <td>19</td>\n",
       "      <td>1.32</td>\n",
       "      <td>4</td>\n",
       "      <td>0.00</td>\n",
       "      <td>2</td>\n",
       "      <td>1.32</td>\n",
       "      <td>5.0</td>\n",
       "      <td>2</td>\n",
       "      <td>0.06</td>\n",
       "      <td>2</td>\n",
       "      <td>2</td>\n",
       "      <td>0</td>\n",
       "      <td>2</td>\n",
       "      <td>0</td>\n",
       "      <td>2</td>\n",
       "      <td>2.2</td>\n",
       "      <td>1</td>\n",
       "    </tr>\n",
       "    <tr>\n",
       "      <th>52</th>\n",
       "      <td>3.89</td>\n",
       "      <td>22</td>\n",
       "      <td>0.00</td>\n",
       "      <td>2</td>\n",
       "      <td>0.93</td>\n",
       "      <td>2</td>\n",
       "      <td>0.93</td>\n",
       "      <td>5.0</td>\n",
       "      <td>2</td>\n",
       "      <td>7.78</td>\n",
       "      <td>4</td>\n",
       "      <td>2</td>\n",
       "      <td>0</td>\n",
       "      <td>2</td>\n",
       "      <td>0</td>\n",
       "      <td>2</td>\n",
       "      <td>2.2</td>\n",
       "      <td>1</td>\n",
       "    </tr>\n",
       "    <tr>\n",
       "      <th>61</th>\n",
       "      <td>3.89</td>\n",
       "      <td>11</td>\n",
       "      <td>1.26</td>\n",
       "      <td>4</td>\n",
       "      <td>0.05</td>\n",
       "      <td>2</td>\n",
       "      <td>1.31</td>\n",
       "      <td>5.0</td>\n",
       "      <td>2</td>\n",
       "      <td>0.00</td>\n",
       "      <td>2</td>\n",
       "      <td>2</td>\n",
       "      <td>0</td>\n",
       "      <td>2</td>\n",
       "      <td>0</td>\n",
       "      <td>2</td>\n",
       "      <td>2.2</td>\n",
       "      <td>1</td>\n",
       "    </tr>\n",
       "    <tr>\n",
       "      <th>68</th>\n",
       "      <td>3.89</td>\n",
       "      <td>12</td>\n",
       "      <td>1.07</td>\n",
       "      <td>4</td>\n",
       "      <td>0.00</td>\n",
       "      <td>2</td>\n",
       "      <td>1.07</td>\n",
       "      <td>5.0</td>\n",
       "      <td>2</td>\n",
       "      <td>0.00</td>\n",
       "      <td>2</td>\n",
       "      <td>2</td>\n",
       "      <td>0</td>\n",
       "      <td>2</td>\n",
       "      <td>0</td>\n",
       "      <td>2</td>\n",
       "      <td>2.2</td>\n",
       "      <td>1</td>\n",
       "    </tr>\n",
       "    <tr>\n",
       "      <th>79</th>\n",
       "      <td>3.89</td>\n",
       "      <td>2</td>\n",
       "      <td>0.00</td>\n",
       "      <td>2</td>\n",
       "      <td>7.37</td>\n",
       "      <td>4</td>\n",
       "      <td>7.37</td>\n",
       "      <td>5.0</td>\n",
       "      <td>2</td>\n",
       "      <td>0.74</td>\n",
       "      <td>2</td>\n",
       "      <td>2</td>\n",
       "      <td>0</td>\n",
       "      <td>2</td>\n",
       "      <td>0</td>\n",
       "      <td>2</td>\n",
       "      <td>2.6</td>\n",
       "      <td>1</td>\n",
       "    </tr>\n",
       "  </tbody>\n",
       "</table>\n",
       "</div>"
      ],
      "text/plain": [
       "     Sector_score LOCATION_ID  PARA_A  SCORE_A  PARA_B  SCORE_B  TOTAL  \\\n",
       "key                                                                      \n",
       "9            3.89           8    3.98        6    0.99        2   4.97   \n",
       "13           3.89           8    1.09        4    0.35        2   1.44   \n",
       "18           3.89          37    1.81        4    1.03        2   2.84   \n",
       "21           3.89           3    0.02        2    5.94        4   5.96   \n",
       "29           3.89          37    0.00        2    0.75        2   0.75   \n",
       "44           3.89          19    1.32        4    0.00        2   1.32   \n",
       "52           3.89          22    0.00        2    0.93        2   0.93   \n",
       "61           3.89          11    1.26        4    0.05        2   1.31   \n",
       "68           3.89          12    1.07        4    0.00        2   1.07   \n",
       "79           3.89           2    0.00        2    7.37        4   7.37   \n",
       "\n",
       "     numbers  Marks  Money_Value  MONEY_Marks  District  Loss  LOSS_SCORE  \\\n",
       "key                                                                         \n",
       "9        5.0      2         1.93            2         2     0           2   \n",
       "13       5.0      2         0.00            2         2     0           2   \n",
       "18       5.0      2         0.00            2         2     0           2   \n",
       "21       5.0      2         0.01            2         2     0           2   \n",
       "29       5.0      2         6.78            4         2     0           2   \n",
       "44       5.0      2         0.06            2         2     0           2   \n",
       "52       5.0      2         7.78            4         2     0           2   \n",
       "61       5.0      2         0.00            2         2     0           2   \n",
       "68       5.0      2         0.00            2         2     0           2   \n",
       "79       5.0      2         0.74            2         2     0           2   \n",
       "\n",
       "     History  History_score  Score  Risk  \n",
       "key                                       \n",
       "9          0              2    2.4     1  \n",
       "13         0              2    2.2     1  \n",
       "18         0              2    2.2     1  \n",
       "21         0              2    2.6     1  \n",
       "29         0              2    2.2     1  \n",
       "44         0              2    2.2     1  \n",
       "52         0              2    2.2     1  \n",
       "61         0              2    2.2     1  \n",
       "68         0              2    2.2     1  \n",
       "79         0              2    2.6     1  "
      ]
     },
     "execution_count": 26,
     "metadata": {},
     "output_type": "execute_result"
    }
   ],
   "source": [
    "data2.iloc[list1,:].head(10)"
   ]
  },
  {
   "cell_type": "code",
   "execution_count": 27,
   "metadata": {},
   "outputs": [
    {
     "data": {
      "text/plain": [
       "0"
      ]
     },
     "execution_count": 27,
     "metadata": {},
     "output_type": "execute_result"
    }
   ],
   "source": [
    "#if audit risk is greater than 1 risk is 1\n",
    "x1=data1[['Risk','Audit_Risk']][data1['Risk']==1]\n",
    "x1[x1['Audit_Risk']<1].shape[0]"
   ]
  },
  {
   "cell_type": "code",
   "execution_count": 28,
   "metadata": {},
   "outputs": [],
   "source": [
    "data2= data2[['Loss','LOSS_SCORE']]"
   ]
  },
  {
   "cell_type": "code",
   "execution_count": 29,
   "metadata": {},
   "outputs": [
    {
     "data": {
      "text/plain": [
       "0"
      ]
     },
     "execution_count": 29,
     "metadata": {},
     "output_type": "execute_result"
    }
   ],
   "source": [
    "#to find the index of the msiising value\n",
    "index=data1[data1['Money_Value'].isnull()==True]\n",
    "data1.drop('Detection_Risk',axis=1,inplace=True)\n",
    "med= data1[data1['Sector_score']== 55.57]['Money_Value'].median()\n",
    "data1.fillna(value=med,inplace=True)\n",
    "data1['Money_Value'].isnull().sum()"
   ]
  },
  {
   "cell_type": "code",
   "execution_count": 30,
   "metadata": {},
   "outputs": [],
   "source": [
    "#merging Audit risk(data1) and Trial(data2)\n",
    "data1.index.names= ['key']\n",
    "data= pd.merge(data1,data2,on=['key'],how='inner')\n"
   ]
  },
  {
   "cell_type": "markdown",
   "metadata": {},
   "source": [
    "### Removing Duplicated Rows"
   ]
  },
  {
   "cell_type": "code",
   "execution_count": 31,
   "metadata": {},
   "outputs": [],
   "source": [
    "data=data[data.duplicated(subset=None, keep='first')==False]"
   ]
  },
  {
   "cell_type": "markdown",
   "metadata": {},
   "source": [
    "### Average Audit Risk Scores for each Location ID"
   ]
  },
  {
   "cell_type": "code",
   "execution_count": 32,
   "metadata": {
    "scrolled": false
   },
   "outputs": [
    {
     "data": {
      "text/plain": [
       "<matplotlib.axes._subplots.AxesSubplot at 0x143887dd780>"
      ]
     },
     "execution_count": 32,
     "metadata": {},
     "output_type": "execute_result"
    },
    {
     "data": {
      "image/png": "[encoded data removed]",
      "text/plain": [
       "<Figure size 2160x720 with 1 Axes>"
      ]
     },
     "metadata": {
      "needs_background": "light"
     },
     "output_type": "display_data"
    }
   ],
   "source": [
    "plt.figure(figsize=(30,10))\n",
    "sns.barplot(x='LOCATION_ID',y='Audit_Risk',data= data,estimator=np.mean)"
   ]
  },
  {
   "cell_type": "code",
   "execution_count": 33,
   "metadata": {},
   "outputs": [],
   "source": [
    "## Imputing non_numeric values in LOCATION_ID Column\n",
    "data['LOCATION_ID'].replace(['LOHARU', 'NUH','SAFIDON'],['10','26','45'],inplace=True)"
   ]
  },
  {
   "cell_type": "markdown",
   "metadata": {},
   "source": [
    "### Average Audit Risk Scores for each Sector Score"
   ]
  },
  {
   "cell_type": "code",
   "execution_count": 28,
   "metadata": {
    "scrolled": false
   },
   "outputs": [
    {
     "data": {
      "text/plain": [
       "<matplotlib.axes._subplots.AxesSubplot at 0x1f0509f3400>"
      ]
     },
     "execution_count": 28,
     "metadata": {},
     "output_type": "execute_result"
    },
    {
     "data": {
      "image/png": "[encoded data removed]",
      "text/plain": [
       "<Figure size 2160x720 with 1 Axes>"
      ]
     },
     "metadata": {
      "needs_background": "light"
     },
     "output_type": "display_data"
    }
   ],
   "source": [
    "plt.figure(figsize=(30,10))\n",
    "sns.barplot(x='Sector_score',y='Audit_Risk',data= data,estimator=np.mean)"
   ]
  },
  {
   "cell_type": "markdown",
   "metadata": {},
   "source": [
    "Upon Further analyzing the correlation  we found that more features were correlated with each otheter by a high percentage, so we took the threshold as 0.70 , so if the correlation is above 0.70 we drop one of them using the prior knowldge we have about the variables from the data descriptions and the relations between them"
   ]
  },
  {
   "cell_type": "code",
   "execution_count": 29,
   "metadata": {},
   "outputs": [
    {
     "data": {
      "text/plain": [
       "<matplotlib.axes._subplots.AxesSubplot at 0x1f05110fcf8>"
      ]
     },
     "execution_count": 29,
     "metadata": {},
     "output_type": "execute_result"
    },
    {
     "data": {
      "image/png": "[encoded data removed]",
      "text/plain": [
       "<Figure size 1440x1440 with 2 Axes>"
      ]
     },
     "metadata": {
      "needs_background": "light"
     },
     "output_type": "display_data"
    }
   ],
   "source": [
    "#corelation matrix\n",
    "plt.figure(figsize=(20,20))\n",
    "data_copy=data\n",
    "data_copy.drop('LOCATION_ID',axis=1,inplace=True)\n",
    "d=data_copy.corr()\n",
    "sns.heatmap(d,annot= True,linecolor='white',linewidths=3)"
   ]
  },
  {
   "cell_type": "markdown",
   "metadata": {},
   "source": [
    "### Final correlation matrix"
   ]
  },
  {
   "cell_type": "code",
   "execution_count": 30,
   "metadata": {},
   "outputs": [
    {
     "data": {
      "text/plain": [
       "<matplotlib.axes._subplots.AxesSubplot at 0x1f0520613c8>"
      ]
     },
     "execution_count": 30,
     "metadata": {},
     "output_type": "execute_result"
    },
    {
     "data": {
      "image/png": "[encoded data removed]",
      "text/plain": [
       "<Figure size 1440x1440 with 2 Axes>"
      ]
     },
     "metadata": {
      "needs_background": "light"
     },
     "output_type": "display_data"
    }
   ],
   "source": [
    "data.drop(['Risk_A','Score_A','Risk_B','Score_B','Score_B.1','Risk_C','Risk_D','Inherent_Risk','Score_MV','RiSk_E','PROB','CONTROL_RISK','Risk_F','LOSS_SCORE','Prob','TOTAL'],axis=1,inplace=True)\n",
    "data_corr1= data.corr()\n",
    "fig=plt.figure(figsize=(20,20))\n",
    "sns.heatmap(data_corr1,annot= True,linecolor='white',linewidths=3)"
   ]
  },
  {
   "cell_type": "markdown",
   "metadata": {},
   "source": [
    "### Removal of Outliers"
   ]
  },
  {
   "cell_type": "markdown",
   "metadata": {},
   "source": [
    "1)So, the outliers that seemed rare were audit risk of 961.5144 for a firm in sector with score 2.72, the average audit risk score for this sector is less than 50, so this is a outlier and this is caused by a high paara b value which is greater than 1200\n",
    "\n",
    "2)The firm with audit risk 222 is part of a sector with average risk score less than 20 so this can also be considered as a outlier\n",
    "\n",
    "3)the firm with audit risk 204 is part of a sector which has very few instances(3) so we cannot consider this as an outlier"
   ]
  },
  {
   "cell_type": "code",
   "execution_count": 31,
   "metadata": {},
   "outputs": [
    {
     "data": {
      "image/png": "[encoded data removed]",
      "text/plain": [
       "<Figure size 1440x1440 with 11 Axes>"
      ]
     },
     "metadata": {
      "needs_background": "light"
     },
     "output_type": "display_data"
    }
   ],
   "source": [
    "plt.figure(figsize=(20,20))\n",
    "for i in range(0,data.shape[1]):\n",
    "        plt.subplot(3,4,i+1)\n",
    "        sns.boxplot(data.iloc[:,i])\n",
    "        plt.title(data.columns[i])"
   ]
  },
  {
   "cell_type": "code",
   "execution_count": 32,
   "metadata": {},
   "outputs": [
    {
     "data": {
      "image/png": "[encoded data removed]",
      "text/plain": [
       "<Figure size 432x288 with 1 Axes>"
      ]
     },
     "metadata": {
      "needs_background": "light"
     },
     "output_type": "display_data"
    }
   ],
   "source": [
    "data[data['PARA_B']>1000]\n",
    "data[data['Audit_Risk']>200]\n",
    "sns.rugplot(data['Audit_Risk'])\n",
    "data=data.drop([241,584],axis=0)"
   ]
  },
  {
   "cell_type": "code",
   "execution_count": 33,
   "metadata": {},
   "outputs": [],
   "source": [
    "data_risk = data\n",
    "data = data.drop('Risk', axis = 1)"
   ]
  },
  {
   "cell_type": "code",
   "execution_count": 34,
   "metadata": {},
   "outputs": [
    {
     "name": "stdout",
     "output_type": "stream",
     "text": [
      "<class 'pandas.core.frame.DataFrame'>\n",
      "Int64Index: 761 entries, 0 to 775\n",
      "Data columns (total 10 columns):\n",
      "Sector_score     761 non-null float64\n",
      "PARA_A           761 non-null float64\n",
      "PARA_B           761 non-null float64\n",
      "numbers          761 non-null float64\n",
      "Money_Value      761 non-null float64\n",
      "District_Loss    761 non-null int64\n",
      "History          761 non-null int64\n",
      "Score            761 non-null float64\n",
      "Audit_Risk       761 non-null float64\n",
      "Loss             761 non-null int64\n",
      "dtypes: float64(7), int64(3)\n",
      "memory usage: 65.4 KB\n"
     ]
    }
   ],
   "source": [
    "data.info()"
   ]
  },
  {
   "cell_type": "markdown",
   "metadata": {},
   "source": [
    "# Regressions"
   ]
  },
  {
   "cell_type": "code",
   "execution_count": 35,
   "metadata": {},
   "outputs": [],
   "source": [
    "from sklearn.model_selection import train_test_split\n",
    "x= data.drop('Audit_Risk',axis=1)\n",
    "y=data['Audit_Risk']\n",
    "x_train,x_test,y_train,y_test= train_test_split(x,y,test_size=0.20,random_state=0)"
   ]
  },
  {
   "cell_type": "code",
   "execution_count": 36,
   "metadata": {},
   "outputs": [
    {
     "name": "stderr",
     "output_type": "stream",
     "text": [
      "D:\\Anaconda\\envs\\python3\\lib\\site-packages\\sklearn\\preprocessing\\data.py:645: DataConversionWarning: Data with input dtype int64, float64 were all converted to float64 by StandardScaler.\n",
      "  return self.partial_fit(X, y)\n",
      "D:\\Anaconda\\envs\\python3\\lib\\site-packages\\sklearn\\base.py:464: DataConversionWarning: Data with input dtype int64, float64 were all converted to float64 by StandardScaler.\n",
      "  return self.fit(X, **fit_params).transform(X)\n",
      "D:\\Anaconda\\envs\\python3\\lib\\site-packages\\ipykernel_launcher.py:4: DataConversionWarning: Data with input dtype int64, float64 were all converted to float64 by StandardScaler.\n",
      "  after removing the cwd from sys.path.\n"
     ]
    }
   ],
   "source": [
    "from sklearn.preprocessing import StandardScaler\n",
    "scaler = scaler = StandardScaler()\n",
    "x_train = scaler.fit_transform(x_train)\n",
    "x_test = scaler.transform(x_test)"
   ]
  },
  {
   "cell_type": "markdown",
   "metadata": {},
   "source": [
    " feature tranformation and dimesionality reduction using pca"
   ]
  },
  {
   "cell_type": "code",
   "execution_count": 37,
   "metadata": {},
   "outputs": [],
   "source": [
    "from  sklearn.decomposition import PCA\n",
    "pca= PCA(n_components=0.95)\n",
    "pca.fit(x_train)\n",
    "x_train= pca.transform(x_train)"
   ]
  },
  {
   "cell_type": "code",
   "execution_count": 38,
   "metadata": {},
   "outputs": [],
   "source": [
    "x_test=pca.transform(x_test)"
   ]
  },
  {
   "cell_type": "markdown",
   "metadata": {},
   "source": [
    "## 1. Linear Regression"
   ]
  },
  {
   "cell_type": "code",
   "execution_count": 39,
   "metadata": {},
   "outputs": [
    {
     "name": "stdout",
     "output_type": "stream",
     "text": [
      "Train:0.7767\n",
      "Test:0.7830\n"
     ]
    }
   ],
   "source": [
    "#Linear Regression\n",
    "from sklearn.linear_model import LinearRegression\n",
    "lr = LinearRegression(fit_intercept=True)\n",
    "lr.fit(x_train,y_train)\n",
    "print(\"Train:%.4f\"%lr.score(x_train,y_train))\n",
    "print(\"Test:%.4f\"%lr.score(x_test,y_test))"
   ]
  },
  {
   "cell_type": "markdown",
   "metadata": {},
   "source": [
    "Running Gradient Descent to Avoid underfitting as the train score is less,Discovered That The Coeficients given by the linear Regrerssion are already the optimum coefiecients"
   ]
  },
  {
   "cell_type": "code",
   "execution_count": 40,
   "metadata": {},
   "outputs": [
    {
     "data": {
      "text/plain": [
       "array([[ 5.96834288],\n",
       "       [ 7.52424779],\n",
       "       [ 0.91882342],\n",
       "       [-2.11087681],\n",
       "       [ 1.77357137],\n",
       "       [ 6.34477462],\n",
       "       [ 1.21861177],\n",
       "       [ 1.7219391 ],\n",
       "       [ 5.49330783]])"
      ]
     },
     "execution_count": 40,
     "metadata": {},
     "output_type": "execute_result"
    }
   ],
   "source": [
    "lr=LinearRegression(fit_intercept=True)\n",
    "lr.fit(x_train,y_train)\n",
    "ones=np.ones((x_train.shape[0],1))\n",
    "array=np.array(x_train)\n",
    "xdesg=np.matrix(np.hstack((ones,array)))\n",
    "xdesg=np.matrix(xdesg)\n",
    "coef=lr.coef_.tolist()\n",
    "coef.insert(0,lr.intercept_)\n",
    "theta1=(np.array(coef).reshape(9,1))\n",
    "y_actual=np.array(y_train).reshape(x_train.shape[0],1)\n",
    "theta1"
   ]
  },
  {
   "cell_type": "markdown",
   "metadata": {},
   "source": [
    "### Performing Gradient Descent"
   ]
  },
  {
   "cell_type": "code",
   "execution_count": 41,
   "metadata": {},
   "outputs": [],
   "source": [
    "def hypothesis(theta, X,n):\n",
    "    h = np.ones((X.shape[0],1))\n",
    "    theta = theta.reshape(1,n+1)\n",
    "    for i in range(0,X.shape[0]):\n",
    "        h[i] = float(np.dot(theta,xdesg.T[:,i]))\n",
    "    h = h.reshape(X.shape[0],1)\n",
    "    return h"
   ]
  },
  {
   "cell_type": "code",
   "execution_count": 42,
   "metadata": {},
   "outputs": [],
   "source": [
    "h=hypothesis(theta1,xdesg,8)"
   ]
  },
  {
   "cell_type": "code",
   "execution_count": 43,
   "metadata": {},
   "outputs": [],
   "source": [
    "def BGD(theta, alpha, num_iters, h, X, y, n):\n",
    "    cost = np.ones(num_iters)\n",
    "    for i in range(0,num_iters):\n",
    "        theta[0] = theta[0] - (alpha/X.shape[0]) * float(sum(h - y))\n",
    "        for j in range(1,n+1):\n",
    "            theta[j] = theta[j] - ((alpha/X.shape[0]) * float(sum(np.dot(X.T[j],(h-y)))))\n",
    "        h = hypothesis(theta, X, n)\n",
    "        cost[i] = (1/X.shape[0]) * 0.5 * float(sum(np.square(h - y_actual)))\n",
    "    theta = theta.reshape(1,n+1)\n",
    "    return theta, cost"
   ]
  },
  {
   "cell_type": "code",
   "execution_count": 44,
   "metadata": {},
   "outputs": [],
   "source": [
    "def linear_regression(X, y, alpha, num_iters):\n",
    "    n = 8\n",
    "    # initializing the parameter vector...\n",
    "    theta = np.zeros(n+1)\n",
    "    # hypothesis calculation....\n",
    "    h = hypothesis(theta, xdesg, 8)\n",
    "    # returning the optimized parameters by Gradient Descent...\n",
    "    theta, cost = BGD(theta,alpha,num_iters,h,X,y,n)\n",
    "    return theta, cost"
   ]
  },
  {
   "cell_type": "code",
   "execution_count": 45,
   "metadata": {},
   "outputs": [],
   "source": [
    "list1=[]\n",
    "for alpha in [0.001,0.01,0.1]:\n",
    "    list1.append(linear_regression(xdesg,y_actual,alpha,1000)[1])"
   ]
  },
  {
   "cell_type": "code",
   "execution_count": 46,
   "metadata": {
    "scrolled": true
   },
   "outputs": [
    {
     "data": {
      "text/plain": [
       "(array([[ 5.96834288,  7.52424779,  0.91882342, -2.11087681,  1.77357137,\n",
       "          6.34477462,  1.21861177,  1.7219391 ,  5.49330783]]),\n",
       " array([111.76381753,  84.69154841,  69.1343753 ,  59.67144145,\n",
       "         53.53724145,  49.3016217 ,  46.20950021,  43.84994037,\n",
       "         41.98976757,  40.48948687,  39.26044437,  38.24272138,\n",
       "         37.39350254,  36.68077759,  36.07979297,  35.57094867,\n",
       "         35.13847589,  34.76955349,  34.45368361,  34.1822295 ,\n",
       "         33.94806127,  33.74527765,  33.56898378,  33.41511171,\n",
       "         33.28027454,  33.16164719,  33.0568688 ,  32.9639625 ,\n",
       "         32.88126948,  32.80739472,  32.7411622 ,  32.68157806,\n",
       "         32.62780004,  32.57911239,  32.53490496,  32.49465601,\n",
       "         32.45791791,  32.42430529,  32.3934852 ,  32.3651689 ,\n",
       "         32.33910508,  32.31507419,  32.29288366,  32.27236394,\n",
       "         32.25336522,  32.2357546 ,  32.21941376,  32.20423698,\n",
       "         32.19012948,  32.177006  ,  32.16478959,  32.15341061,\n",
       "         32.14280586,  32.13291778,  32.1236939 ,  32.1150862 ,\n",
       "         32.10705069,  32.09954696,  32.09253783,  32.08598905,\n",
       "         32.07986899,  32.07414843,  32.06880032,  32.0637996 ,\n",
       "         32.05912303,  32.05474902,  32.05065753,  32.04682991,\n",
       "         32.0432488 ,  32.03989805,  32.0367626 ,  32.03382843,\n",
       "         32.03108245,  32.02851244,  32.02610702,  32.02385555,\n",
       "         32.02174808,  32.01977535,  32.01792867,  32.01619995,\n",
       "         32.0145816 ,  32.01306655,  32.01164818,  32.01032028,\n",
       "         32.00907707,  32.00791313,  32.00682338,  32.0058031 ,\n",
       "         32.00484783,  32.00395342,  32.003116  ,  32.00233192,\n",
       "         32.00159779,  32.0009104 ,  32.00026679,  31.99966416,\n",
       "         31.9990999 ,  31.99857157,  31.99807687,  31.99761366,\n",
       "         31.99717994,  31.99677383,  31.99639356,  31.9960375 ,\n",
       "         31.9957041 ,  31.99539192,  31.99509961,  31.9948259 ,\n",
       "         31.99456961,  31.99432962,  31.99410491,  31.9938945 ,\n",
       "         31.99369748,  31.993513  ,  31.99334025,  31.9931785 ,\n",
       "         31.99302703,  31.99288521,  31.99275241,  31.99262806,\n",
       "         31.99251162,  31.99240259,  31.9923005 ,  31.9922049 ,\n",
       "         31.99211539,  31.99203157,  31.99195309,  31.99187959,\n",
       "         31.99181078,  31.99174634,  31.991686  ,  31.9916295 ,\n",
       "         31.9915766 ,  31.99152706,  31.99148067,  31.99143724,\n",
       "         31.99139657,  31.99135848,  31.99132282,  31.99128943,\n",
       "         31.99125816,  31.99122888,  31.99120147,  31.9911758 ,\n",
       "         31.99115176,  31.99112925,  31.99110817,  31.99108844,\n",
       "         31.99106996,  31.99105265,  31.99103645,  31.99102128,\n",
       "         31.99100707,  31.99099377,  31.99098131,  31.99096965,\n",
       "         31.99095872,  31.9909485 ,  31.99093892,  31.99092995,\n",
       "         31.99092156,  31.99091369,  31.99090633,  31.99089944,\n",
       "         31.99089298,  31.99088694,  31.99088128,  31.99087598,\n",
       "         31.99087101,  31.99086637,  31.99086202,  31.99085794,\n",
       "         31.99085413,  31.99085055,  31.99084721,  31.99084407,\n",
       "         31.99084114,  31.9908384 ,  31.99083582,  31.99083342,\n",
       "         31.99083116,  31.99082905,  31.99082707,  31.99082522,\n",
       "         31.99082349,  31.99082186,  31.99082034,  31.99081892,\n",
       "         31.99081759,  31.99081634,  31.99081517,  31.99081408,\n",
       "         31.99081305,  31.99081209,  31.99081119,  31.99081035,\n",
       "         31.99080956,  31.99080883,  31.99080814,  31.99080749,\n",
       "         31.99080688,  31.99080632,  31.99080579,  31.99080529,\n",
       "         31.99080482,  31.99080439,  31.99080398,  31.9908036 ,\n",
       "         31.99080324,  31.9908029 ,  31.99080259,  31.9908023 ,\n",
       "         31.99080202,  31.99080176,  31.99080152,  31.9908013 ,\n",
       "         31.99080108,  31.99080089,  31.9908007 ,  31.99080053,\n",
       "         31.99080037,  31.99080021,  31.99080007,  31.99079994,\n",
       "         31.99079981,  31.99079969,  31.99079958,  31.99079948,\n",
       "         31.99079939,  31.9907993 ,  31.99079921,  31.99079913,\n",
       "         31.99079906,  31.99079899,  31.99079893,  31.99079886,\n",
       "         31.99079881,  31.99079875,  31.9907987 ,  31.99079866,\n",
       "         31.99079861,  31.99079857,  31.99079854,  31.9907985 ,\n",
       "         31.99079847,  31.99079843,  31.9907984 ,  31.99079838,\n",
       "         31.99079835,  31.99079833,  31.9907983 ,  31.99079828,\n",
       "         31.99079826,  31.99079825,  31.99079823,  31.99079821,\n",
       "         31.9907982 ,  31.99079818,  31.99079817,  31.99079816,\n",
       "         31.99079814,  31.99079813,  31.99079812,  31.99079811,\n",
       "         31.9907981 ,  31.9907981 ,  31.99079809,  31.99079808,\n",
       "         31.99079807,  31.99079807,  31.99079806,  31.99079806,\n",
       "         31.99079805,  31.99079804,  31.99079804,  31.99079804,\n",
       "         31.99079803,  31.99079803,  31.99079802,  31.99079802,\n",
       "         31.99079802,  31.99079801,  31.99079801,  31.99079801,\n",
       "         31.99079801,  31.990798  ,  31.990798  ,  31.990798  ,\n",
       "         31.990798  ,  31.990798  ,  31.990798  ,  31.99079799,\n",
       "         31.99079799,  31.99079799,  31.99079799,  31.99079799,\n",
       "         31.99079799,  31.99079799,  31.99079799,  31.99079798,\n",
       "         31.99079798,  31.99079798,  31.99079798,  31.99079798,\n",
       "         31.99079798,  31.99079798,  31.99079798,  31.99079798,\n",
       "         31.99079798,  31.99079798,  31.99079798,  31.99079798,\n",
       "         31.99079798,  31.99079798,  31.99079798,  31.99079798,\n",
       "         31.99079798,  31.99079798,  31.99079798,  31.99079798,\n",
       "         31.99079797,  31.99079797,  31.99079797,  31.99079797,\n",
       "         31.99079797,  31.99079797,  31.99079797,  31.99079797,\n",
       "         31.99079797,  31.99079797,  31.99079797,  31.99079797,\n",
       "         31.99079797,  31.99079797,  31.99079797,  31.99079797,\n",
       "         31.99079797,  31.99079797,  31.99079797,  31.99079797,\n",
       "         31.99079797,  31.99079797,  31.99079797,  31.99079797,\n",
       "         31.99079797,  31.99079797,  31.99079797,  31.99079797,\n",
       "         31.99079797,  31.99079797,  31.99079797,  31.99079797,\n",
       "         31.99079797,  31.99079797,  31.99079797,  31.99079797,\n",
       "         31.99079797,  31.99079797,  31.99079797,  31.99079797,\n",
       "         31.99079797,  31.99079797,  31.99079797,  31.99079797,\n",
       "         31.99079797,  31.99079797,  31.99079797,  31.99079797,\n",
       "         31.99079797,  31.99079797,  31.99079797,  31.99079797,\n",
       "         31.99079797,  31.99079797,  31.99079797,  31.99079797,\n",
       "         31.99079797,  31.99079797,  31.99079797,  31.99079797,\n",
       "         31.99079797,  31.99079797,  31.99079797,  31.99079797,\n",
       "         31.99079797,  31.99079797,  31.99079797,  31.99079797,\n",
       "         31.99079797,  31.99079797,  31.99079797,  31.99079797,\n",
       "         31.99079797,  31.99079797,  31.99079797,  31.99079797,\n",
       "         31.99079797,  31.99079797,  31.99079797,  31.99079797,\n",
       "         31.99079797,  31.99079797,  31.99079797,  31.99079797,\n",
       "         31.99079797,  31.99079797,  31.99079797,  31.99079797,\n",
       "         31.99079797,  31.99079797,  31.99079797,  31.99079797,\n",
       "         31.99079797,  31.99079797,  31.99079797,  31.99079797,\n",
       "         31.99079797,  31.99079797,  31.99079797,  31.99079797,\n",
       "         31.99079797,  31.99079797,  31.99079797,  31.99079797,\n",
       "         31.99079797,  31.99079797,  31.99079797,  31.99079797,\n",
       "         31.99079797,  31.99079797,  31.99079797,  31.99079797,\n",
       "         31.99079797,  31.99079797,  31.99079797,  31.99079797,\n",
       "         31.99079797,  31.99079797,  31.99079797,  31.99079797,\n",
       "         31.99079797,  31.99079797,  31.99079797,  31.99079797,\n",
       "         31.99079797,  31.99079797,  31.99079797,  31.99079797,\n",
       "         31.99079797,  31.99079797,  31.99079797,  31.99079797,\n",
       "         31.99079797,  31.99079797,  31.99079797,  31.99079797,\n",
       "         31.99079797,  31.99079797,  31.99079797,  31.99079797,\n",
       "         31.99079797,  31.99079797,  31.99079797,  31.99079797,\n",
       "         31.99079797,  31.99079797,  31.99079797,  31.99079797,\n",
       "         31.99079797,  31.99079797,  31.99079797,  31.99079797,\n",
       "         31.99079797,  31.99079797,  31.99079797,  31.99079797,\n",
       "         31.99079797,  31.99079797,  31.99079797,  31.99079797,\n",
       "         31.99079797,  31.99079797,  31.99079797,  31.99079797,\n",
       "         31.99079797,  31.99079797,  31.99079797,  31.99079797,\n",
       "         31.99079797,  31.99079797,  31.99079797,  31.99079797,\n",
       "         31.99079797,  31.99079797,  31.99079797,  31.99079797,\n",
       "         31.99079797,  31.99079797,  31.99079797,  31.99079797,\n",
       "         31.99079797,  31.99079797,  31.99079797,  31.99079797,\n",
       "         31.99079797,  31.99079797,  31.99079797,  31.99079797,\n",
       "         31.99079797,  31.99079797,  31.99079797,  31.99079797,\n",
       "         31.99079797,  31.99079797,  31.99079797,  31.99079797,\n",
       "         31.99079797,  31.99079797,  31.99079797,  31.99079797,\n",
       "         31.99079797,  31.99079797,  31.99079797,  31.99079797,\n",
       "         31.99079797,  31.99079797,  31.99079797,  31.99079797,\n",
       "         31.99079797,  31.99079797,  31.99079797,  31.99079797,\n",
       "         31.99079797,  31.99079797,  31.99079797,  31.99079797,\n",
       "         31.99079797,  31.99079797,  31.99079797,  31.99079797,\n",
       "         31.99079797,  31.99079797,  31.99079797,  31.99079797,\n",
       "         31.99079797,  31.99079797,  31.99079797,  31.99079797,\n",
       "         31.99079797,  31.99079797,  31.99079797,  31.99079797,\n",
       "         31.99079797,  31.99079797,  31.99079797,  31.99079797,\n",
       "         31.99079797,  31.99079797,  31.99079797,  31.99079797,\n",
       "         31.99079797,  31.99079797,  31.99079797,  31.99079797,\n",
       "         31.99079797,  31.99079797,  31.99079797,  31.99079797,\n",
       "         31.99079797,  31.99079797,  31.99079797,  31.99079797,\n",
       "         31.99079797,  31.99079797,  31.99079797,  31.99079797,\n",
       "         31.99079797,  31.99079797,  31.99079797,  31.99079797,\n",
       "         31.99079797,  31.99079797,  31.99079797,  31.99079797,\n",
       "         31.99079797,  31.99079797,  31.99079797,  31.99079797,\n",
       "         31.99079797,  31.99079797,  31.99079797,  31.99079797,\n",
       "         31.99079797,  31.99079797,  31.99079797,  31.99079797,\n",
       "         31.99079797,  31.99079797,  31.99079797,  31.99079797,\n",
       "         31.99079797,  31.99079797,  31.99079797,  31.99079797,\n",
       "         31.99079797,  31.99079797,  31.99079797,  31.99079797,\n",
       "         31.99079797,  31.99079797,  31.99079797,  31.99079797,\n",
       "         31.99079797,  31.99079797,  31.99079797,  31.99079797,\n",
       "         31.99079797,  31.99079797,  31.99079797,  31.99079797,\n",
       "         31.99079797,  31.99079797,  31.99079797,  31.99079797,\n",
       "         31.99079797,  31.99079797,  31.99079797,  31.99079797,\n",
       "         31.99079797,  31.99079797,  31.99079797,  31.99079797,\n",
       "         31.99079797,  31.99079797,  31.99079797,  31.99079797,\n",
       "         31.99079797,  31.99079797,  31.99079797,  31.99079797,\n",
       "         31.99079797,  31.99079797,  31.99079797,  31.99079797,\n",
       "         31.99079797,  31.99079797,  31.99079797,  31.99079797,\n",
       "         31.99079797,  31.99079797,  31.99079797,  31.99079797,\n",
       "         31.99079797,  31.99079797,  31.99079797,  31.99079797,\n",
       "         31.99079797,  31.99079797,  31.99079797,  31.99079797,\n",
       "         31.99079797,  31.99079797,  31.99079797,  31.99079797,\n",
       "         31.99079797,  31.99079797,  31.99079797,  31.99079797,\n",
       "         31.99079797,  31.99079797,  31.99079797,  31.99079797,\n",
       "         31.99079797,  31.99079797,  31.99079797,  31.99079797,\n",
       "         31.99079797,  31.99079797,  31.99079797,  31.99079797,\n",
       "         31.99079797,  31.99079797,  31.99079797,  31.99079797,\n",
       "         31.99079797,  31.99079797,  31.99079797,  31.99079797,\n",
       "         31.99079797,  31.99079797,  31.99079797,  31.99079797,\n",
       "         31.99079797,  31.99079797,  31.99079797,  31.99079797,\n",
       "         31.99079797,  31.99079797,  31.99079797,  31.99079797,\n",
       "         31.99079797,  31.99079797,  31.99079797,  31.99079797,\n",
       "         31.99079797,  31.99079797,  31.99079797,  31.99079797,\n",
       "         31.99079797,  31.99079797,  31.99079797,  31.99079797,\n",
       "         31.99079797,  31.99079797,  31.99079797,  31.99079797,\n",
       "         31.99079797,  31.99079797,  31.99079797,  31.99079797,\n",
       "         31.99079797,  31.99079797,  31.99079797,  31.99079797,\n",
       "         31.99079797,  31.99079797,  31.99079797,  31.99079797,\n",
       "         31.99079797,  31.99079797,  31.99079797,  31.99079797,\n",
       "         31.99079797,  31.99079797,  31.99079797,  31.99079797,\n",
       "         31.99079797,  31.99079797,  31.99079797,  31.99079797,\n",
       "         31.99079797,  31.99079797,  31.99079797,  31.99079797,\n",
       "         31.99079797,  31.99079797,  31.99079797,  31.99079797,\n",
       "         31.99079797,  31.99079797,  31.99079797,  31.99079797,\n",
       "         31.99079797,  31.99079797,  31.99079797,  31.99079797,\n",
       "         31.99079797,  31.99079797,  31.99079797,  31.99079797,\n",
       "         31.99079797,  31.99079797,  31.99079797,  31.99079797,\n",
       "         31.99079797,  31.99079797,  31.99079797,  31.99079797,\n",
       "         31.99079797,  31.99079797,  31.99079797,  31.99079797,\n",
       "         31.99079797,  31.99079797,  31.99079797,  31.99079797,\n",
       "         31.99079797,  31.99079797,  31.99079797,  31.99079797,\n",
       "         31.99079797,  31.99079797,  31.99079797,  31.99079797,\n",
       "         31.99079797,  31.99079797,  31.99079797,  31.99079797,\n",
       "         31.99079797,  31.99079797,  31.99079797,  31.99079797,\n",
       "         31.99079797,  31.99079797,  31.99079797,  31.99079797,\n",
       "         31.99079797,  31.99079797,  31.99079797,  31.99079797,\n",
       "         31.99079797,  31.99079797,  31.99079797,  31.99079797,\n",
       "         31.99079797,  31.99079797,  31.99079797,  31.99079797,\n",
       "         31.99079797,  31.99079797,  31.99079797,  31.99079797,\n",
       "         31.99079797,  31.99079797,  31.99079797,  31.99079797,\n",
       "         31.99079797,  31.99079797,  31.99079797,  31.99079797,\n",
       "         31.99079797,  31.99079797,  31.99079797,  31.99079797,\n",
       "         31.99079797,  31.99079797,  31.99079797,  31.99079797,\n",
       "         31.99079797,  31.99079797,  31.99079797,  31.99079797,\n",
       "         31.99079797,  31.99079797,  31.99079797,  31.99079797,\n",
       "         31.99079797,  31.99079797,  31.99079797,  31.99079797,\n",
       "         31.99079797,  31.99079797,  31.99079797,  31.99079797,\n",
       "         31.99079797,  31.99079797,  31.99079797,  31.99079797,\n",
       "         31.99079797,  31.99079797,  31.99079797,  31.99079797,\n",
       "         31.99079797,  31.99079797,  31.99079797,  31.99079797,\n",
       "         31.99079797,  31.99079797,  31.99079797,  31.99079797,\n",
       "         31.99079797,  31.99079797,  31.99079797,  31.99079797,\n",
       "         31.99079797,  31.99079797,  31.99079797,  31.99079797,\n",
       "         31.99079797,  31.99079797,  31.99079797,  31.99079797,\n",
       "         31.99079797,  31.99079797,  31.99079797,  31.99079797,\n",
       "         31.99079797,  31.99079797,  31.99079797,  31.99079797,\n",
       "         31.99079797,  31.99079797,  31.99079797,  31.99079797,\n",
       "         31.99079797,  31.99079797,  31.99079797,  31.99079797,\n",
       "         31.99079797,  31.99079797,  31.99079797,  31.99079797,\n",
       "         31.99079797,  31.99079797,  31.99079797,  31.99079797,\n",
       "         31.99079797,  31.99079797,  31.99079797,  31.99079797,\n",
       "         31.99079797,  31.99079797,  31.99079797,  31.99079797,\n",
       "         31.99079797,  31.99079797,  31.99079797,  31.99079797,\n",
       "         31.99079797,  31.99079797,  31.99079797,  31.99079797,\n",
       "         31.99079797,  31.99079797,  31.99079797,  31.99079797,\n",
       "         31.99079797,  31.99079797,  31.99079797,  31.99079797,\n",
       "         31.99079797,  31.99079797,  31.99079797,  31.99079797,\n",
       "         31.99079797,  31.99079797,  31.99079797,  31.99079797,\n",
       "         31.99079797,  31.99079797,  31.99079797,  31.99079797,\n",
       "         31.99079797,  31.99079797,  31.99079797,  31.99079797,\n",
       "         31.99079797,  31.99079797,  31.99079797,  31.99079797,\n",
       "         31.99079797,  31.99079797,  31.99079797,  31.99079797,\n",
       "         31.99079797,  31.99079797,  31.99079797,  31.99079797,\n",
       "         31.99079797,  31.99079797,  31.99079797,  31.99079797,\n",
       "         31.99079797,  31.99079797,  31.99079797,  31.99079797,\n",
       "         31.99079797,  31.99079797,  31.99079797,  31.99079797,\n",
       "         31.99079797,  31.99079797,  31.99079797,  31.99079797,\n",
       "         31.99079797,  31.99079797,  31.99079797,  31.99079797,\n",
       "         31.99079797,  31.99079797,  31.99079797,  31.99079797,\n",
       "         31.99079797,  31.99079797,  31.99079797,  31.99079797,\n",
       "         31.99079797,  31.99079797,  31.99079797,  31.99079797,\n",
       "         31.99079797,  31.99079797,  31.99079797,  31.99079797,\n",
       "         31.99079797,  31.99079797,  31.99079797,  31.99079797,\n",
       "         31.99079797,  31.99079797,  31.99079797,  31.99079797,\n",
       "         31.99079797,  31.99079797,  31.99079797,  31.99079797,\n",
       "         31.99079797,  31.99079797,  31.99079797,  31.99079797]))"
      ]
     },
     "execution_count": 46,
     "metadata": {},
     "output_type": "execute_result"
    }
   ],
   "source": [
    "linear_regression(xdesg,y_actual,0.1,1000)"
   ]
  },
  {
   "cell_type": "markdown",
   "metadata": {},
   "source": [
    "### Cost Function Vs Number Of Iterations gradient descent"
   ]
  },
  {
   "cell_type": "code",
   "execution_count": 48,
   "metadata": {},
   "outputs": [
    {
     "data": {
      "image/png": "[encoded data removed]",
      "text/plain": [
       "<Figure size 1440x720 with 3 Axes>"
      ]
     },
     "metadata": {
      "needs_background": "light"
     },
     "output_type": "display_data"
    }
   ],
   "source": [
    "plt.figure(figsize=(20,10))\n",
    "listalpha1=list1[0].tolist()\n",
    "listalpha2=list1[1].tolist()\n",
    "listalpha3= list1[2].tolist()\n",
    "plt.subplot(1,3,1)\n",
    "plt.plot(list(range(1,1001)),listalpha1,'r')\n",
    "plt.ylabel('cost')\n",
    "plt.xlabel('no of iter')\n",
    "plt.title('alpha=0.001')\n",
    "plt.subplot(1,3,2)\n",
    "plt.plot(np.arange(1,1001).tolist(),listalpha2,'b')\n",
    "plt.ylabel('cost')\n",
    "plt.xlabel('no of iter')\n",
    "plt.title('alpha=0.01')\n",
    "plt.subplot(1,3,3)\n",
    "plt.plot(np.arange(1,1001).tolist(),listalpha3,'g')\n",
    "plt.xlabel('cost')\n",
    "plt.ylabel('no of iter')\n",
    "plt.title('alpha=0.1')\n",
    "plt.tight_layout()"
   ]
  },
  {
   "cell_type": "code",
   "execution_count": 41,
   "metadata": {},
   "outputs": [
    {
     "name": "stdout",
     "output_type": "stream",
     "text": [
      "mean train score is 0.48119650879682413\n",
      "mean test score is 0.787932751122144\n"
     ]
    },
    {
     "name": "stderr",
     "output_type": "stream",
     "text": [
      "D:\\Anaconda\\envs\\python3\\lib\\site-packages\\sklearn\\model_selection\\_split.py:2053: FutureWarning: You should specify a value for 'cv' instead of relying on the default value. The default value will change from 3 to 5 in version 0.22.\n",
      "  warnings.warn(CV_WARNING, FutureWarning)\n"
     ]
    }
   ],
   "source": [
    "# Cross Validation\n",
    "from sklearn.model_selection import cross_val_score\n",
    "reg = LinearRegression(fit_intercept=True)\n",
    "scores_train= cross_val_score(reg, x_train,y_train,cv=5)\n",
    "scores_test= cross_val_score(reg,x_test,y_test)\n",
    "print('mean train score is {}'.format(scores_train.mean()))\n",
    "print('mean test score is {}'.format(scores_test.mean()))"
   ]
  },
  {
   "cell_type": "markdown",
   "metadata": {},
   "source": [
    "## 2. Ridge"
   ]
  },
  {
   "cell_type": "code",
   "execution_count": 42,
   "metadata": {
    "scrolled": true
   },
   "outputs": [
    {
     "data": {
      "image/png": "[encoded data removed]",
      "text/plain": [
       "<Figure size 432x288 with 1 Axes>"
      ]
     },
     "metadata": {
      "needs_background": "light"
     },
     "output_type": "display_data"
    }
   ],
   "source": [
    "from  sklearn.linear_model import Ridge\n",
    "\n",
    "x_range = [0.001,0.01,0.1,1,100,200,300,1000]\n",
    "train_score_list = []\n",
    "test_score_list = []\n",
    "\n",
    "for alpha in x_range: \n",
    "    ridge = Ridge(alpha,fit_intercept=True)\n",
    "    ridge.fit(x_train,y_train)\n",
    "    train_score_list.append(ridge.score(x_train,y_train))\n",
    "    test_score_list.append(ridge.score(x_test, y_test))\n",
    "%matplotlib inline\n",
    "import matplotlib.pyplot as plt\n",
    "plt.figure()\n",
    "plt.plot(x_range,train_score_list,label='Train')\n",
    "plt.plot(x_range,test_score_list,label='Test')\n",
    "plt.xscale('log')\n",
    "plt.xlabel('alpha')\n",
    "plt.ylabel('rsq')\n",
    "plt.legend()\n",
    "plt.show()"
   ]
  },
  {
   "cell_type": "code",
   "execution_count": 43,
   "metadata": {
    "scrolled": true
   },
   "outputs": [
    {
     "data": {
      "image/png": "[encoded data removed]",
      "text/plain": [
       "<Figure size 432x288 with 1 Axes>"
      ]
     },
     "metadata": {
      "needs_background": "light"
     },
     "output_type": "display_data"
    }
   ],
   "source": [
    "%matplotlib inline\n",
    "import numpy as np\n",
    "\n",
    "x_range1 = np.linspace(0.001, 1, 100).reshape(-1,1)\n",
    "x_range2 = np.linspace(1, 10000, 10000).reshape(-1,1)\n",
    "\n",
    "x_range = np.append(x_range1, x_range2)\n",
    "coeff = []\n",
    "\n",
    "for alpha in x_range: \n",
    "    ridge = Ridge(alpha,fit_intercept=False)\n",
    "    ridge.fit(x_train,y_train)\n",
    "    coeff.append(ridge.coef_ )\n",
    "    \n",
    "coeff = np.array(coeff)\n",
    "\n",
    "for i in range(0,8):\n",
    "    plt.plot(x_range, coeff[:,i], label = 'feature {:d}'.format(i))\n",
    "\n",
    "plt.axhline(y=0, xmin=0.001, xmax=9999, linewidth=1, c ='gray')\n",
    "plt.xlabel(r'$\\alpha$')\n",
    "plt.xscale('log')\n",
    "plt.legend(loc='upper center', bbox_to_anchor=(0.5, 1.5),\n",
    "          ncol=3, fancybox=True, shadow=True)\n",
    "plt.show()"
   ]
  },
  {
   "cell_type": "code",
   "execution_count": 44,
   "metadata": {
    "scrolled": true
   },
   "outputs": [
    {
     "name": "stdout",
     "output_type": "stream",
     "text": [
      "best param is alpha ={'alpha': 100}\n"
     ]
    },
    {
     "name": "stderr",
     "output_type": "stream",
     "text": [
      "D:\\Anaconda\\envs\\python3\\lib\\site-packages\\sklearn\\model_selection\\_search.py:841: DeprecationWarning: The default of the `iid` parameter will change from True to False in version 0.22 and will be removed in 0.24. This will change numeric results when test-set sizes are unequal.\n",
      "  DeprecationWarning)\n"
     ]
    }
   ],
   "source": [
    "#grid search\n",
    "from sklearn.model_selection import GridSearchCV\n",
    "from sklearn.model_selection import GridSearchCV\n",
    "a = [0.001,0.01,0.1,1,100,1000]\n",
    "param_grid = dict(alpha=a)\n",
    "grid = GridSearchCV(ridge, param_grid, cv=5)\n",
    "grid.fit(x_train,y_train)\n",
    "print('best param is alpha ={}'.format(grid.best_params_))"
   ]
  },
  {
   "cell_type": "code",
   "execution_count": 45,
   "metadata": {},
   "outputs": [
    {
     "name": "stdout",
     "output_type": "stream",
     "text": [
      "Avg Train Score:0.6401\n",
      "Avg Test Score:0.5865\n"
     ]
    }
   ],
   "source": [
    "#cross validation\n",
    "ridge = Ridge(alpha =100)\n",
    "train_score_list = cross_val_score(ridge,x_train,y_train,cv=5)\n",
    "test_score_list = cross_val_score(ridge,x_test,y_test,cv=5)\n",
    "print(\"Avg Train Score:%.4f\"%train_score_list.mean())\n",
    "print(\"Avg Test Score:%.4f\"%test_score_list.mean())"
   ]
  },
  {
   "cell_type": "code",
   "execution_count": 46,
   "metadata": {
    "scrolled": true
   },
   "outputs": [
    {
     "name": "stdout",
     "output_type": "stream",
     "text": [
      "train_score:0.7671040757815342\n",
      "test_score:0.8012511732701155\n"
     ]
    }
   ],
   "source": [
    "#train and test score for alpha=100\n",
    "ridge=Ridge(alpha=100)\n",
    "rid=ridge.fit(x_train,y_train)\n",
    "train_score=rid.score(x_train,y_train)\n",
    "test_score= rid.score(x_test,y_test)\n",
    "print('train_score:{}'.format(train_score))\n",
    "print('test_score:{}'.format(test_score))"
   ]
  },
  {
   "cell_type": "markdown",
   "metadata": {},
   "source": [
    "## 3. LASSO"
   ]
  },
  {
   "cell_type": "code",
   "execution_count": 47,
   "metadata": {},
   "outputs": [
    {
     "data": {
      "text/plain": [
       "Text(0.5, 0, '$\\\\alpha$')"
      ]
     },
     "execution_count": 47,
     "metadata": {},
     "output_type": "execute_result"
    },
    {
     "data": {
      "image/png": "[encoded data removed]",
      "text/plain": [
       "<Figure size 432x288 with 1 Axes>"
      ]
     },
     "metadata": {
      "needs_background": "light"
     },
     "output_type": "display_data"
    }
   ],
   "source": [
    "from sklearn.linear_model import Lasso\n",
    "x_range = [0.01, 0.1, 1, 10, 100,1000]\n",
    "train_score_list = []\n",
    "test_score_list = []\n",
    "\n",
    "for alpha in x_range: \n",
    "    lasso = Lasso(alpha,fit_intercept=True)\n",
    "    lasso.fit(x_train,y_train)\n",
    "    train_score_list.append(lasso.score(x_train,y_train))\n",
    "    test_score_list.append(lasso.score(x_test, y_test))\n",
    "plt.plot(x_range, train_score_list, c = 'g', label = 'Train Score')\n",
    "plt.plot(x_range, test_score_list, c = 'b', label = 'Test Score')\n",
    "plt.xscale('log')\n",
    "plt.legend(loc = 3)\n",
    "plt.xlabel(r'$\\alpha$')"
   ]
  },
  {
   "cell_type": "code",
   "execution_count": 48,
   "metadata": {
    "scrolled": true
   },
   "outputs": [
    {
     "data": {
      "image/png": "[encoded data removed]",
      "text/plain": [
       "<Figure size 432x288 with 1 Axes>"
      ]
     },
     "metadata": {
      "needs_background": "light"
     },
     "output_type": "display_data"
    }
   ],
   "source": [
    "%matplotlib inline\n",
    "\n",
    "x_range1 = np.linspace(0.001, 1, 1000).reshape(-1,1)\n",
    "x_range2 = np.linspace(1, 1000, 1000).reshape(-1,1)\n",
    "\n",
    "x_range = np.append(x_range1, x_range2)\n",
    "coeff = []\n",
    "\n",
    "for alpha in x_range: \n",
    "    lasso = Lasso(alpha,fit_intercept=True)\n",
    "    lasso.fit(x_train,y_train)\n",
    "    coeff.append(lasso.coef_ )\n",
    "    \n",
    "coeff = np.array(coeff)\n",
    "\n",
    "for i in range(0,8):\n",
    "    plt.plot(x_range, coeff[:,i], label = 'feature {:d}'.format(i))\n",
    "\n",
    "plt.axhline(y=0, xmin=0.001, xmax=9999, linewidth=1, c ='gray')\n",
    "plt.xlabel(r'$\\alpha$')\n",
    "plt.xscale('log')\n",
    "plt.legend(loc='upper center', bbox_to_anchor=(0.5, 1.5),\n",
    "          ncol=3, fancybox=True, shadow=True)\n",
    "plt.show()"
   ]
  },
  {
   "cell_type": "code",
   "execution_count": 49,
   "metadata": {
    "scrolled": true
   },
   "outputs": [
    {
     "name": "stdout",
     "output_type": "stream",
     "text": [
      "best param is alpha ={'alpha': 1}\n"
     ]
    },
    {
     "name": "stderr",
     "output_type": "stream",
     "text": [
      "D:\\Anaconda\\envs\\python3\\lib\\site-packages\\sklearn\\model_selection\\_search.py:841: DeprecationWarning: The default of the `iid` parameter will change from True to False in version 0.22 and will be removed in 0.24. This will change numeric results when test-set sizes are unequal.\n",
      "  DeprecationWarning)\n"
     ]
    }
   ],
   "source": [
    "#grid search\n",
    "from sklearn.model_selection import GridSearchCV\n",
    "from sklearn.model_selection import GridSearchCV\n",
    "a = [0.01,0.1,1,10,100,1000]\n",
    "param_grid = dict(alpha=a)\n",
    "grid = GridSearchCV(lasso, param_grid, cv=5)\n",
    "grid.fit(x_train,y_train)\n",
    "print('best param is alpha ={}'.format(grid.best_params_))"
   ]
  },
  {
   "cell_type": "code",
   "execution_count": 50,
   "metadata": {},
   "outputs": [
    {
     "name": "stdout",
     "output_type": "stream",
     "text": [
      "Avg Train Score:0.6176\n",
      "Avg Test Score:0.6794\n"
     ]
    }
   ],
   "source": [
    "# Using Cross Validation\n",
    "from sklearn.model_selection import cross_val_score\n",
    "lasso = Lasso(alpha=1)\n",
    "train_score_list = cross_val_score(lasso,x_train,y_train,cv=5)\n",
    "test_score_list = cross_val_score(lasso,x_test,y_test,cv=5)\n",
    "print(\"Avg Train Score:%.4f\"%train_score_list.mean())\n",
    "print(\"Avg Test Score:%.4f\"%test_score_list.mean())"
   ]
  },
  {
   "cell_type": "code",
   "execution_count": 51,
   "metadata": {},
   "outputs": [
    {
     "name": "stdout",
     "output_type": "stream",
     "text": [
      "train_score:0.7412946420275394\n",
      "test_score:0.7264836967021606\n"
     ]
    }
   ],
   "source": [
    "#train and test score for alpha=1\n",
    "lasso=Lasso(alpha=1)\n",
    "lass=lasso.fit(x_train,y_train)\n",
    "train_score=lass.score(x_train,y_train)\n",
    "test_score= lass.score(x_test,y_test)\n",
    "print('train_score:{}'.format(train_score))\n",
    "print('test_score:{}'.format(test_score))"
   ]
  },
  {
   "cell_type": "markdown",
   "metadata": {},
   "source": [
    "## 4. KNN Regression"
   ]
  },
  {
   "cell_type": "code",
   "execution_count": 52,
   "metadata": {},
   "outputs": [
    {
     "data": {
      "text/plain": [
       "Text(0, 0.5, 'rsq')"
      ]
     },
     "execution_count": 52,
     "metadata": {},
     "output_type": "execute_result"
    },
    {
     "data": {
      "image/png": "[encoded data removed]",
      "text/plain": [
       "<Figure size 432x288 with 1 Axes>"
      ]
     },
     "metadata": {
      "needs_background": "light"
     },
     "output_type": "display_data"
    }
   ],
   "source": [
    "#kneibhours regressor\n",
    "np.random.seed(0)\n",
    "from sklearn.neighbors import KNeighborsRegressor\n",
    "%matplotlib inline\n",
    "train_score_array = []\n",
    "test_score_array = []\n",
    "\n",
    "for k in range(1,15):\n",
    "    knn_reg = KNeighborsRegressor(k)\n",
    "    knn_reg.fit(x_train, y_train)\n",
    "    train_score_array.append(knn_reg.score(x_train, y_train))\n",
    "    test_score_array.append(knn_reg.score(x_test, y_test))\n",
    "\n",
    "x_axis = range(1,15)\n",
    "plt.plot(x_axis, train_score_array, c = 'g', label = 'Train Score')\n",
    "plt.plot(x_axis, test_score_array, c = 'b', label = 'Test Score')\n",
    "plt.legend()\n",
    "plt.xlabel('k')\n",
    "plt.ylabel('rsq')"
   ]
  },
  {
   "cell_type": "code",
   "execution_count": 53,
   "metadata": {},
   "outputs": [
    {
     "name": "stdout",
     "output_type": "stream",
     "text": [
      "best param is k ={'n_neighbors': 2}\n"
     ]
    },
    {
     "name": "stderr",
     "output_type": "stream",
     "text": [
      "D:\\Anaconda\\envs\\python3\\lib\\site-packages\\sklearn\\model_selection\\_search.py:841: DeprecationWarning: The default of the `iid` parameter will change from True to False in version 0.22 and will be removed in 0.24. This will change numeric results when test-set sizes are unequal.\n",
      "  DeprecationWarning)\n"
     ]
    }
   ],
   "source": [
    "#grid search\n",
    "from sklearn.model_selection import GridSearchCV\n",
    "k = [2,3,4,5,6,7,8,9]\n",
    "param_grid = dict(n_neighbors=k)\n",
    "grid = GridSearchCV(knn_reg, param_grid, cv=5)\n",
    "grid.fit(x_train,y_train)\n",
    "print('best param is k ={}'.format(grid.best_params_))"
   ]
  },
  {
   "cell_type": "code",
   "execution_count": 54,
   "metadata": {},
   "outputs": [
    {
     "name": "stdout",
     "output_type": "stream",
     "text": [
      "Avg Train Score:0.6638\n",
      "Avg Test Score:0.2565\n"
     ]
    }
   ],
   "source": [
    "# Using Cross Validation\n",
    "from sklearn.model_selection import cross_val_score\n",
    "knn_reg = KNeighborsRegressor(n_neighbors=2)\n",
    "train_score_list = cross_val_score(knn_reg,x_train,y_train,cv=5)\n",
    "test_score_list = cross_val_score(knn_reg,x_test,y_test,cv=5)\n",
    "print(\"Avg Train Score:%.4f\"%train_score_list.mean())\n",
    "print(\"Avg Test Score:%.4f\"%test_score_list.mean())"
   ]
  },
  {
   "cell_type": "code",
   "execution_count": 55,
   "metadata": {},
   "outputs": [
    {
     "name": "stdout",
     "output_type": "stream",
     "text": [
      "train_score:0.9262899008985692\n",
      "test_score:0.8261217896445268\n"
     ]
    }
   ],
   "source": [
    "#using knn,k=2\n",
    "knn= KNeighborsRegressor(n_neighbors=2)\n",
    "kn=knn.fit(x_train,y_train)\n",
    "train_score=kn.score(x_train,y_train)\n",
    "test_score=kn.score(x_test,y_test)\n",
    "print('train_score:{}'.format(train_score))\n",
    "print('test_score:{}'.format(test_score))"
   ]
  },
  {
   "cell_type": "markdown",
   "metadata": {},
   "source": [
    "## 5. Polynomial Regression"
   ]
  },
  {
   "cell_type": "code",
   "execution_count": 49,
   "metadata": {},
   "outputs": [
    {
     "data": {
      "text/plain": [
       "<matplotlib.legend.Legend at 0x1f0577e7550>"
      ]
     },
     "execution_count": 49,
     "metadata": {},
     "output_type": "execute_result"
    },
    {
     "data": {
      "image/png": "[encoded data removed]",
      "text/plain": [
       "<Figure size 432x288 with 1 Axes>"
      ]
     },
     "metadata": {
      "needs_background": "light"
     },
     "output_type": "display_data"
    }
   ],
   "source": [
    "from  sklearn.preprocessing  import PolynomialFeatures\n",
    "np.random.seed(0)\n",
    "train_score_list = []\n",
    "test_score_list = []\n",
    "\n",
    "for n in range(1,3):\n",
    "    poly = PolynomialFeatures(n)\n",
    "    x_train_poly = poly.fit_transform(x_train)\n",
    "    x_test_poly = poly.transform(x_test)\n",
    "    lr= LinearRegression(fit_intercept=True)\n",
    "    lr.fit(x_train_poly, y_train)\n",
    "    train_score_list.append(lr.score(x_train_poly, y_train))\n",
    "    test_score_list.append(lr.score(x_test_poly, y_test))\n",
    "%matplotlib inline\n",
    "\n",
    "x_axis = range(1,3)\n",
    "plt.plot(x_axis, train_score_list, c = 'g', label = 'Train Score')\n",
    "plt.plot(x_axis, test_score_list, c = 'b', label = 'Test Score')\n",
    "plt.xlabel('degree')\n",
    "plt.ylabel('accuracy')\n",
    "plt.legend()"
   ]
  },
  {
   "cell_type": "markdown",
   "metadata": {},
   "source": [
    "n=2 gives the best value for polynomial regression"
   ]
  },
  {
   "cell_type": "code",
   "execution_count": 50,
   "metadata": {},
   "outputs": [
    {
     "data": {
      "text/plain": [
       "[0.7766923898809044, 0.9975141584699547]"
      ]
     },
     "execution_count": 50,
     "metadata": {},
     "output_type": "execute_result"
    }
   ],
   "source": [
    "train_score_list"
   ]
  },
  {
   "cell_type": "code",
   "execution_count": 51,
   "metadata": {},
   "outputs": [
    {
     "data": {
      "text/plain": [
       "[0.7830173118980095, 0.9559384220049995]"
      ]
     },
     "execution_count": 51,
     "metadata": {},
     "output_type": "execute_result"
    }
   ],
   "source": [
    "test_score_list"
   ]
  },
  {
   "cell_type": "code",
   "execution_count": 55,
   "metadata": {
    "scrolled": true
   },
   "outputs": [
    {
     "name": "stdout",
     "output_type": "stream",
     "text": [
      "Cross-validation Train scores: [ 0.78134489  0.75833125  0.71353147  0.84392053 -0.69114559]\n",
      "Average Train cross-validation score: 0.48\n",
      "Cross-validation Test scores: [0.66906636 0.78218889 0.72263737 0.89883462 0.8356311 ]\n",
      "Average Test cross-validation score: 0.78\n"
     ]
    }
   ],
   "source": [
    "#cross validation\n",
    "from sklearn.model_selection import cross_val_score\n",
    "np.random.seed(0)\n",
    "scores_test=[]\n",
    "scores_train=[]\n",
    "poly = PolynomialFeatures(1)\n",
    "x_train_poly = poly.fit_transform(x_train)\n",
    "x_test_poly = poly.transform(x_test)\n",
    "lr=LinearRegression()\n",
    "lr.fit(x_train_poly,y_train)\n",
    "scores_train = cross_val_score(lr,x_train_poly,y_train,cv=5)\n",
    "scores_test = cross_val_score(lr,x_test_poly,y_test,cv=5)\n",
    "print(\"Cross-validation Train scores: {}\".format(scores_train))\n",
    "print(\"Average Train cross-validation score: {:.2f}\".format(scores_train.mean()))\n",
    "print(\"Cross-validation Test scores: {}\".format(scores_test))\n",
    "print(\"Average Test cross-validation score: {:.2f}\".format(scores_test.mean()))"
   ]
  },
  {
   "cell_type": "markdown",
   "metadata": {},
   "source": [
    "## 6. Linear SVM Regression"
   ]
  },
  {
   "cell_type": "code",
   "execution_count": 60,
   "metadata": {
    "scrolled": false
   },
   "outputs": [
    {
     "data": {
      "text/plain": [
       "<matplotlib.legend.Legend at 0x1c8d58d1128>"
      ]
     },
     "execution_count": 60,
     "metadata": {},
     "output_type": "execute_result"
    },
    {
     "data": {
      "image/png": "[encoded data removed]",
      "text/plain": [
       "<Figure size 432x288 with 1 Axes>"
      ]
     },
     "metadata": {
      "needs_background": "light"
     },
     "output_type": "display_data"
    }
   ],
   "source": [
    "from sklearn.svm import LinearSVR\n",
    "train_score_list=[]\n",
    "test_score_list=[]\n",
    "C=[0.00001,0.0001,0.001,0.1,0.2,0.3,1,10,100]\n",
    "\n",
    "for i in C:\n",
    "    svr = LinearSVR(C=i,max_iter=1000000,fit_intercept=True)\n",
    "    svr.fit(x_train,y_train)\n",
    "    train_score_list.append(svr.score(x_train,y_train))\n",
    "    test_score_list.append(svr.score(x_test,y_test))\n",
    "\n",
    "%matplotlib inline\n",
    "plt.plot(C,train_score_list,label='Train')\n",
    "plt.xlabel('C')\n",
    "plt.xscale('log')\n",
    "plt.ylabel('rsq')\n",
    "plt.plot(C,test_score_list,label='Test')\n",
    "plt.xlabel('C')\n",
    "plt.xscale('log')\n",
    "plt.ylabel('rsq')\n",
    "plt.legend()"
   ]
  },
  {
   "cell_type": "code",
   "execution_count": 61,
   "metadata": {},
   "outputs": [
    {
     "name": "stdout",
     "output_type": "stream",
     "text": [
      "best param is c ={'C': 0.2}\n"
     ]
    },
    {
     "name": "stderr",
     "output_type": "stream",
     "text": [
      "D:\\Anaconda\\envs\\python3\\lib\\site-packages\\sklearn\\model_selection\\_search.py:841: DeprecationWarning: The default of the `iid` parameter will change from True to False in version 0.22 and will be removed in 0.24. This will change numeric results when test-set sizes are unequal.\n",
      "  DeprecationWarning)\n"
     ]
    }
   ],
   "source": [
    "#grid search\n",
    "from sklearn.model_selection import GridSearchCV\n",
    "c= [0.1,0.2,0.3,0.5,1]\n",
    "param_grid = dict(C=c)\n",
    "grid = GridSearchCV(svr,param_grid, cv=5)\n",
    "grid.fit(x_train,y_train)\n",
    "print('best param is c ={}'.format(grid.best_params_))"
   ]
  },
  {
   "cell_type": "code",
   "execution_count": 62,
   "metadata": {},
   "outputs": [
    {
     "name": "stdout",
     "output_type": "stream",
     "text": [
      "avg train score 0.6972874657491708\n",
      "avg test score 0.5690049614039114\n"
     ]
    }
   ],
   "source": [
    "#cross validation\n",
    "from sklearn.model_selection import cross_val_score\n",
    "svr = LinearSVR(C=0.2,max_iter=10000)\n",
    "scores_train = cross_val_score(svr,x_train,y_train, cv=5)\n",
    "scores_test= cross_val_score(svr,x_test,y_test, cv=5)\n",
    "print('avg train score {}'.format(scores_train.mean()))\n",
    "print('avg test score {}'.format(scores_test.mean()))"
   ]
  },
  {
   "cell_type": "markdown",
   "metadata": {},
   "source": [
    "## 7. Kernelized SVM Regression"
   ]
  },
  {
   "cell_type": "markdown",
   "metadata": {},
   "source": [
    "### RBF Kernel"
   ]
  },
  {
   "cell_type": "code",
   "execution_count": 63,
   "metadata": {},
   "outputs": [
    {
     "name": "stdout",
     "output_type": "stream",
     "text": [
      "best params are  ={'C': 10, 'gamma': 0.01}\n"
     ]
    },
    {
     "name": "stderr",
     "output_type": "stream",
     "text": [
      "D:\\Anaconda\\envs\\python3\\lib\\site-packages\\sklearn\\model_selection\\_search.py:841: DeprecationWarning: The default of the `iid` parameter will change from True to False in version 0.22 and will be removed in 0.24. This will change numeric results when test-set sizes are unequal.\n",
      "  DeprecationWarning)\n"
     ]
    }
   ],
   "source": [
    "#grid search for svr with rbf kernal\n",
    "from sklearn.svm import SVR\n",
    "from sklearn.model_selection import GridSearchCV\n",
    "c= [0.0001,0.001,0.01,0.1,1,10]\n",
    "gamma=[0.0001,0.001,0.01,0.1,1,10]\n",
    "param_grid = {'C':[0.0001,0.001,0.01,0.1,1,10],'gamma':[0.0001,0.001,0.01,0.1,1,10]}\n",
    "grid = GridSearchCV(SVR(kernel='rbf'),param_grid, cv=5)\n",
    "grid.fit(x_train,y_train)\n",
    "print('best params are  ={}'.format(grid.best_params_))"
   ]
  },
  {
   "cell_type": "code",
   "execution_count": 64,
   "metadata": {},
   "outputs": [
    {
     "name": "stdout",
     "output_type": "stream",
     "text": [
      "avg train score 0.6729872408919026\n",
      "avg test score 0.5340817752245364\n"
     ]
    }
   ],
   "source": [
    "#cross validation for svr with rbf kernal\n",
    "from sklearn.model_selection import cross_val_score\n",
    "scores_train = cross_val_score(SVR(kernel='rbf',gamma=0.01,C=10),x_train,y_train, cv=5)\n",
    "scores_test= cross_val_score(SVR(kernel='rbf',gamma=0.01,C=10),x_test,y_test, cv=5)\n",
    "print('avg train score {}'.format(scores_train.mean()))\n",
    "print('avg test score {}'.format(scores_test.mean()))"
   ]
  },
  {
   "cell_type": "markdown",
   "metadata": {},
   "source": [
    "### Linear Kernel"
   ]
  },
  {
   "cell_type": "code",
   "execution_count": 65,
   "metadata": {},
   "outputs": [
    {
     "name": "stdout",
     "output_type": "stream",
     "text": [
      "best params are  ={'C': 0.1, 'gamma': 0.0001}\n"
     ]
    },
    {
     "name": "stderr",
     "output_type": "stream",
     "text": [
      "D:\\Anaconda\\envs\\python3\\lib\\site-packages\\sklearn\\model_selection\\_search.py:841: DeprecationWarning: The default of the `iid` parameter will change from True to False in version 0.22 and will be removed in 0.24. This will change numeric results when test-set sizes are unequal.\n",
      "  DeprecationWarning)\n"
     ]
    }
   ],
   "source": [
    "#grid search for svr with linear kernal\n",
    "from sklearn.model_selection import GridSearchCV\n",
    "scores_test=[]\n",
    "scores_train=[]\n",
    "c= [0.0001,0.001,0.01,0.1,1,10]\n",
    "gamma=[0.0001,0.001,0.01,0.1,1,10]\n",
    "param_grid = {'C':[0.0001,0.001,0.01,0.1,1,10],'gamma':[0.0001,0.001,0.01,0.1,1,10]}\n",
    "grid = GridSearchCV(SVR(kernel='linear'),param_grid, cv=5)\n",
    "grid.fit(x_train,y_train)\n",
    "print('best params are  ={}'.format(grid.best_params_))"
   ]
  },
  {
   "cell_type": "code",
   "execution_count": 59,
   "metadata": {},
   "outputs": [
    {
     "name": "stdout",
     "output_type": "stream",
     "text": [
      "avg train score 0.7013384419690792\n",
      "avg test score 0.4853583837405037\n"
     ]
    }
   ],
   "source": [
    "#cross validation for svr with linear kernal\n",
    "from sklearn.model_selection import cross_val_score\n",
    "scores_train=[]\n",
    "scores_test=[]\n",
    "scores_train = cross_val_score(SVR(kernel='linear',gamma=0.0001,C=0.1),x_train,y_train, cv=5)\n",
    "scores_test= cross_val_score(SVR(kernel='linear',gamma=0.0001,C=0.1),x_test,y_test, cv=5)\n",
    "print('avg train score {}'.format(scores_train.mean()))\n",
    "print('avg test score {}'.format(scores_test.mean()))"
   ]
  },
  {
   "cell_type": "markdown",
   "metadata": {},
   "source": [
    "## Poly Kernal"
   ]
  },
  {
   "cell_type": "code",
   "execution_count": 47,
   "metadata": {},
   "outputs": [
    {
     "name": "stdout",
     "output_type": "stream",
     "text": [
      "the best params are {'C': 0.01, 'gamma': 10}\n"
     ]
    },
    {
     "name": "stderr",
     "output_type": "stream",
     "text": [
      "D:\\Anaconda\\envs\\python3\\lib\\site-packages\\sklearn\\model_selection\\_search.py:841: DeprecationWarning: The default of the `iid` parameter will change from True to False in version 0.22 and will be removed in 0.24. This will change numeric results when test-set sizes are unequal.\n",
      "  DeprecationWarning)\n"
     ]
    }
   ],
   "source": [
    "#best param by gridsearch for svr with poly kernal\n",
    "from sklearn.svm import SVR\n",
    "np.random.seed(0)\n",
    "param_grid = { \"C\":[0.0001,0.01,100],\"gamma\":[0.0001,0.01,1,10,100]}\n",
    "grid = GridSearchCV(SVR(kernel='poly',degree=1),param_grid,cv=5)\n",
    "grid.fit(x_train,y_train)\n",
    "print('the best params are {}'.format(grid.best_params_))\n"
   ]
  },
  {
   "cell_type": "code",
   "execution_count": 57,
   "metadata": {},
   "outputs": [
    {
     "name": "stdout",
     "output_type": "stream",
     "text": [
      "avg train score 0.7013369623995732\n",
      "avg test score 0.48535641116370176\n"
     ]
    }
   ],
   "source": [
    "#cross validation for svr with poly kernal\n",
    "from sklearn.model_selection import cross_val_score\n",
    "np.random.seed(0)\n",
    "scores_train=[]\n",
    "scores_test=[]\n",
    "scores_train = cross_val_score(SVR(kernel='poly',gamma=10,C=0.01,degree=1),x_train,y_train, cv=5)\n",
    "scores_test= cross_val_score(SVR(kernel='poly',gamma=10,C=0.01,degree=1),x_test,y_test, cv=5)\n",
    "print('avg train score {}'.format(scores_train.mean()))\n",
    "print('avg test score {}'.format(scores_test.mean()))"
   ]
  },
  {
   "cell_type": "markdown",
   "metadata": {},
   "source": [
    "### Before PCA"
   ]
  },
  {
   "cell_type": "code",
   "execution_count": 7,
   "metadata": {},
   "outputs": [
    {
     "data": {
      "text/html": [
       "<div>\n",
       "<style scoped>\n",
       "    .dataframe tbody tr th:only-of-type {\n",
       "        vertical-align: middle;\n",
       "    }\n",
       "\n",
       "    .dataframe tbody tr th {\n",
       "        vertical-align: top;\n",
       "    }\n",
       "\n",
       "    .dataframe thead th {\n",
       "        text-align: right;\n",
       "    }\n",
       "</style>\n",
       "<table border=\"1\" class=\"dataframe\">\n",
       "  <thead>\n",
       "    <tr style=\"text-align: right;\">\n",
       "      <th></th>\n",
       "      <th>Model</th>\n",
       "      <th>Avg.Train Score</th>\n",
       "      <th>Avg_Test_Score</th>\n",
       "    </tr>\n",
       "  </thead>\n",
       "  <tbody>\n",
       "    <tr>\n",
       "      <th>0</th>\n",
       "      <td>Linear Regression</td>\n",
       "      <td>0.4500</td>\n",
       "      <td>0.64</td>\n",
       "    </tr>\n",
       "    <tr>\n",
       "      <th>1</th>\n",
       "      <td>Ridge Regression</td>\n",
       "      <td>0.6300</td>\n",
       "      <td>0.56</td>\n",
       "    </tr>\n",
       "    <tr>\n",
       "      <th>2</th>\n",
       "      <td>Lasso Regression</td>\n",
       "      <td>0.5600</td>\n",
       "      <td>0.59</td>\n",
       "    </tr>\n",
       "    <tr>\n",
       "      <th>3</th>\n",
       "      <td>KNN Regression</td>\n",
       "      <td>0.6600</td>\n",
       "      <td>0.25</td>\n",
       "    </tr>\n",
       "    <tr>\n",
       "      <th>4</th>\n",
       "      <td>Plynomial Regression</td>\n",
       "      <td>0.4600</td>\n",
       "      <td>0.76</td>\n",
       "    </tr>\n",
       "    <tr>\n",
       "      <th>5</th>\n",
       "      <td>Linear SVM Regression</td>\n",
       "      <td>0.6900</td>\n",
       "      <td>0.55</td>\n",
       "    </tr>\n",
       "    <tr>\n",
       "      <th>6</th>\n",
       "      <td>RBF Kernel</td>\n",
       "      <td>0.6752</td>\n",
       "      <td>0.52</td>\n",
       "    </tr>\n",
       "    <tr>\n",
       "      <th>7</th>\n",
       "      <td>Linear Kernel</td>\n",
       "      <td>0.7100</td>\n",
       "      <td>0.47</td>\n",
       "    </tr>\n",
       "    <tr>\n",
       "      <th>8</th>\n",
       "      <td>Poly Kernal</td>\n",
       "      <td>0.6800</td>\n",
       "      <td>0.39</td>\n",
       "    </tr>\n",
       "  </tbody>\n",
       "</table>\n",
       "</div>"
      ],
      "text/plain": [
       "                   Model  Avg.Train Score  Avg_Test_Score\n",
       "0      Linear Regression           0.4500            0.64\n",
       "1       Ridge Regression           0.6300            0.56\n",
       "2       Lasso Regression           0.5600            0.59\n",
       "3         KNN Regression           0.6600            0.25\n",
       "4   Plynomial Regression           0.4600            0.76\n",
       "5  Linear SVM Regression           0.6900            0.55\n",
       "6             RBF Kernel           0.6752            0.52\n",
       "7          Linear Kernel           0.7100            0.47\n",
       "8            Poly Kernal           0.6800            0.39"
      ]
     },
     "execution_count": 7,
     "metadata": {},
     "output_type": "execute_result"
    }
   ],
   "source": [
    "Regression = {'Model':['Linear Regression','Ridge Regression','Lasso Regression','KNN Regression','Plynomial Regression','Linear SVM Regression', 'RBF Kernel', 'Linear Kernel','Poly Kernal'],'Avg.Train Score':[0.45,0.63,0.56,0.66,0.46,0.69,0.6752,0.71,0.68],'Avg_Test_Score':[0.64,0.56,0.59,0.25,0.76,0.55,0.52,0.47,0.39]}\n",
    "Regression_score = pd.DataFrame(Regression)\n",
    "Regression_score"
   ]
  },
  {
   "cell_type": "markdown",
   "metadata": {},
   "source": [
    "### After PCA"
   ]
  },
  {
   "cell_type": "code",
   "execution_count": 8,
   "metadata": {},
   "outputs": [
    {
     "data": {
      "text/html": [
       "<div>\n",
       "<style scoped>\n",
       "    .dataframe tbody tr th:only-of-type {\n",
       "        vertical-align: middle;\n",
       "    }\n",
       "\n",
       "    .dataframe tbody tr th {\n",
       "        vertical-align: top;\n",
       "    }\n",
       "\n",
       "    .dataframe thead th {\n",
       "        text-align: right;\n",
       "    }\n",
       "</style>\n",
       "<table border=\"1\" class=\"dataframe\">\n",
       "  <thead>\n",
       "    <tr style=\"text-align: right;\">\n",
       "      <th></th>\n",
       "      <th>Model</th>\n",
       "      <th>Avg.Train Score</th>\n",
       "      <th>Avg_Test_Score</th>\n",
       "    </tr>\n",
       "  </thead>\n",
       "  <tbody>\n",
       "    <tr>\n",
       "      <th>0</th>\n",
       "      <td>Linear Regression</td>\n",
       "      <td>0.4800</td>\n",
       "      <td>0.78</td>\n",
       "    </tr>\n",
       "    <tr>\n",
       "      <th>1</th>\n",
       "      <td>Ridge Regression</td>\n",
       "      <td>0.6400</td>\n",
       "      <td>0.58</td>\n",
       "    </tr>\n",
       "    <tr>\n",
       "      <th>2</th>\n",
       "      <td>Lasso Regression</td>\n",
       "      <td>0.6100</td>\n",
       "      <td>0.67</td>\n",
       "    </tr>\n",
       "    <tr>\n",
       "      <th>3</th>\n",
       "      <td>KNN Regression</td>\n",
       "      <td>0.6600</td>\n",
       "      <td>0.25</td>\n",
       "    </tr>\n",
       "    <tr>\n",
       "      <th>4</th>\n",
       "      <td>Plynomial Regression</td>\n",
       "      <td>0.4800</td>\n",
       "      <td>0.78</td>\n",
       "    </tr>\n",
       "    <tr>\n",
       "      <th>5</th>\n",
       "      <td>Linear SVM Regression</td>\n",
       "      <td>0.6900</td>\n",
       "      <td>0.57</td>\n",
       "    </tr>\n",
       "    <tr>\n",
       "      <th>6</th>\n",
       "      <td>RBF Kernel</td>\n",
       "      <td>0.6753</td>\n",
       "      <td>0.53</td>\n",
       "    </tr>\n",
       "    <tr>\n",
       "      <th>7</th>\n",
       "      <td>Linear Kernel</td>\n",
       "      <td>0.7000</td>\n",
       "      <td>0.48</td>\n",
       "    </tr>\n",
       "    <tr>\n",
       "      <th>8</th>\n",
       "      <td>Poly Kernal</td>\n",
       "      <td>0.7000</td>\n",
       "      <td>0.49</td>\n",
       "    </tr>\n",
       "  </tbody>\n",
       "</table>\n",
       "</div>"
      ],
      "text/plain": [
       "                   Model  Avg.Train Score  Avg_Test_Score\n",
       "0      Linear Regression           0.4800            0.78\n",
       "1       Ridge Regression           0.6400            0.58\n",
       "2       Lasso Regression           0.6100            0.67\n",
       "3         KNN Regression           0.6600            0.25\n",
       "4   Plynomial Regression           0.4800            0.78\n",
       "5  Linear SVM Regression           0.6900            0.57\n",
       "6             RBF Kernel           0.6753            0.53\n",
       "7          Linear Kernel           0.7000            0.48\n",
       "8            Poly Kernal           0.7000            0.49"
      ]
     },
     "execution_count": 8,
     "metadata": {},
     "output_type": "execute_result"
    }
   ],
   "source": [
    "Regression = {'Model':['Linear Regression','Ridge Regression','Lasso Regression','KNN Regression','Plynomial Regression','Linear SVM Regression', 'RBF Kernel', 'Linear Kernel','Poly Kernal'],'Avg.Train Score':[0.48,0.64,0.61,0.66,0.48,0.69,0.6753,0.70,0.70],'Avg_Test_Score':[0.78,0.58,0.67,0.25,0.78,0.57,0.53,0.48,0.49]}\n",
    "Regression_score = pd.DataFrame(Regression)\n",
    "Regression_score"
   ]
  },
  {
   "cell_type": "markdown",
   "metadata": {},
   "source": [
    "So, after doing pca we can see the average cross validation scores for both train and test have increased, but some are increased only by a very small amount."
   ]
  }
 ],
 "metadata": {
  "kernelspec": {
   "display_name": "Python 3",
   "language": "python",
   "name": "python3"
  },
  "language_info": {
   "codemirror_mode": {
    "name": "ipython",
    "version": 3
   },
   "file_extension": ".py",
   "mimetype": "text/x-python",
   "name": "python",
   "nbconvert_exporter": "python",
   "pygments_lexer": "ipython3",
   "version": "3.6.8"
  }
 },
 "nbformat": 4,
 "nbformat_minor": 2
}
